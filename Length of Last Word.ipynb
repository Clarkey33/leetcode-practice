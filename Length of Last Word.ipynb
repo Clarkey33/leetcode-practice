{
 "cells": [
  {
   "cell_type": "markdown",
   "id": "995d48a94f3d69ae",
   "metadata": {},
   "source": [
    "# Question\n",
    "\n",
    "Given a string s consisting of words and spaces, return the length of the last word in the string.\n",
    "\n",
    "</p>\n",
    "<li>A word is a maximal \n",
    "substring\n",
    " consisting of non-space characters only.\n",
    "\n",
    "Example 1:\n",
    "\n",
    "Input: s = \"Hello World\"\n",
    "Output: 5\n",
    "Explanation: The last word is \"World\" with length 5.\n",
    "Example 2:\n",
    "\n",
    "Input: s = \"   fly me   to   the moon  \"\n",
    "Output: 4\n",
    "Explanation: The last word is \"moon\" with length 4.\n",
    "Example 3:\n",
    "\n",
    "Input: s = \"luffy is still joyboy\"\n",
    "Output: 6\n",
    "Explanation: The last word is \"joyboy\" with length 6.\n",
    " \n",
    "\n",
    "Constraints:\n",
    "\n",
    "1 <= s.length <= 104\n",
    "s consists of only English letters and spaces ' '.\n",
    "There will be at least one word in s.\n"
   ]
  },
  {
   "cell_type": "code",
   "execution_count": 1,
   "id": "b879186262dccc8a",
   "metadata": {
    "ExecuteTime": {
     "end_time": "2025-01-28T16:51:13.341962Z",
     "start_time": "2025-01-28T16:51:13.335954Z"
    }
   },
   "outputs": [],
   "source": [
    "s =\"   fly me   to   the moon  \""
   ]
  },
  {
   "cell_type": "code",
   "execution_count": 2,
   "id": "eee8cfd767eed86f",
   "metadata": {
    "ExecuteTime": {
     "end_time": "2025-01-28T16:51:15.228844Z",
     "start_time": "2025-01-28T16:51:15.223315Z"
    }
   },
   "outputs": [],
   "source": [
    "class Solution(object):\n",
    "    def lengthOfLastWord(self, s):\n",
    "        \"\"\"\n",
    "        :type s: str\n",
    "        :rtype: int\n",
    "        \"\"\"\n",
    "        ''' 1. use .split() to create a list of the words in the string; this will exclude the spaces\n",
    "            2. using slicing to return -1 position of the list\n",
    "            3. the return the length using len\n",
    "            '''\n",
    "\n",
    "        # create a list of words\n",
    "        list_words = s.split() \n",
    "        \n",
    "        #using index slicing to get last word\n",
    "        last_word = list_words[-1]\n",
    "        \n",
    "        #return length of last word\n",
    "        return len(last_word)\n"
   ]
  },
  {
   "cell_type": "code",
   "execution_count": 3,
   "id": "ade5e310518bf0f4",
   "metadata": {
    "ExecuteTime": {
     "end_time": "2025-01-28T16:53:15.511773Z",
     "start_time": "2025-01-28T16:53:15.503774Z"
    }
   },
   "outputs": [
    {
     "data": {
      "text/plain": [
       "4"
      ]
     },
     "execution_count": 3,
     "metadata": {},
     "output_type": "execute_result"
    }
   ],
   "source": [
    "sol = Solution()\n",
    "sol.lengthOfLastWord(s)"
   ]
  },
  {
   "cell_type": "markdown",
   "id": "b304577dd049e18c",
   "metadata": {},
   "source": [
    " ## Why my code works:\n",
    "To Split the String:\n",
    "\n",
    "I used the .split() method on the input string s, which:\n",
    "1. Splits the string into a list of words based on spaces.\n",
    "2. Automatically removes all leading, trailing, and extra spaces between words.\n",
    "\n",
    "For example:\n",
    "Input: \" fly me to the moon \"\n",
    "After s.split(): ['fly', 'me', 'to', 'the', 'moon']\n",
    "\n",
    "To access the Last Word:\n",
    "1. I used negative indexing, where -1 represents the last element in the list.\n",
    "\n",
    "To calculate the Length:\n",
    "1. I used the function len; calculates the length of the last word\n",
    "2. I used return to store and present the value\n",
    "\n"
   ]
  },
  {
   "cell_type": "markdown",
   "id": "149d5474",
   "metadata": {},
   "source": [
    "# How to Optimize:\n",
    "### *Here are a few potential improvements:*\n",
    "\n",
    "#### Avoid Creating an Intermediate List:\n",
    "\n",
    "* The .split() method creates a list, which can consume additional memory if the string is very large. \n",
    "** Instead, you could iterate over the string in reverse to directly find the last word. This would save memory and slightly improve performance.\n",
    "\n"
   ]
  },
  {
   "cell_type": "markdown",
   "id": "21b66824",
   "metadata": {},
   "source": [
    "#### *Optimized Solution (Without .split()): Here’s a way to solve the problem using string manipulation directly, avoiding the creation of a list:*"
   ]
  },
  {
   "cell_type": "code",
   "execution_count": 4,
   "id": "876e37fa2128a2d4",
   "metadata": {},
   "outputs": [],
   "source": [
    "\n",
    "class Solution(object):\n",
    "    def lengthOfLastWord(self, s):\n",
    "        \"\"\"\n",
    "        :type s: str\n",
    "        :rtype: int\n",
    "        \"\"\"\n",
    "        # Trim any trailing spaces\n",
    "        s = s.rstrip()\n",
    "\n",
    "        # Initialize a counter for the length of the last word\n",
    "        length = 0\n",
    "\n",
    "        # Iterate backward over the string\n",
    "        for char in reversed(s):\n",
    "            if char == ' ':\n",
    "                break\n",
    "            length += 1\n",
    "        return length"
   ]
  },
  {
   "cell_type": "code",
   "execution_count": 5,
   "id": "d03a956b",
   "metadata": {},
   "outputs": [
    {
     "data": {
      "text/plain": [
       "4"
      ]
     },
     "execution_count": 5,
     "metadata": {},
     "output_type": "execute_result"
    }
   ],
   "source": [
    "sol = Solution()\n",
    "sol.lengthOfLastWord(s)"
   ]
  }
 ],
 "metadata": {
  "kernelspec": {
   "display_name": "base",
   "language": "python",
   "name": "python3"
  },
  "language_info": {
   "codemirror_mode": {
    "name": "ipython",
    "version": 3
   },
   "file_extension": ".py",
   "mimetype": "text/x-python",
   "name": "python",
   "nbconvert_exporter": "python",
   "pygments_lexer": "ipython3",
   "version": "3.11.5"
  }
 },
 "nbformat": 4,
 "nbformat_minor": 5
}
