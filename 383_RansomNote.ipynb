{
 "cells": [
  {
   "cell_type": "markdown",
   "id": "12775002",
   "metadata": {},
   "source": [
    "# 383. Ransom Note"
   ]
  },
  {
   "cell_type": "markdown",
   "id": "2ba19864",
   "metadata": {},
   "source": [
    "## Question\n",
    "*Given two strings ransomNote and magazine, return true if ransomNote can be constructed by using the letters from magazine and false otherwise.*\n",
    "\n",
    "*Each letter in magazine can only be used once in ransomNote.*\n",
    "\n",
    " \n",
    "\n",
    "*Example 1:*\n",
    "*   Input: ransomNote = \"a\", magazine = \"b\"\n",
    "*   Output: false\n",
    "\n",
    "*Example 2:*\n",
    "*   Input: ransomNote = \"aa\", magazine = \"ab\"\n",
    "*   Output: false\n",
    "\n",
    "*Example 3:*\n",
    "*   Input: ransomNote = \"aa\", magazine = \"aab\"\n",
    "*   Output: true\n",
    " \n",
    "\n",
    "*Constraints:*\n",
    "\n",
    "1.  1 <= ransomNote.length, magazine.length <= 105\n",
    "2.  ransomNote and magazine consist of lowercase English letters."
   ]
  },
  {
   "cell_type": "markdown",
   "id": "48bff9e4",
   "metadata": {},
   "source": [
    "# 1. My Solution"
   ]
  },
  {
   "cell_type": "code",
   "execution_count": 1,
   "id": "fa1d6929",
   "metadata": {},
   "outputs": [],
   "source": [
    "class Solution:\n",
    "    def canConstruct(self, ransomNote: str, magazine: str) -> bool:\n",
    "        from collections import Counter\n",
    "\n",
    "        check=[]\n",
    "        for val in ransomNote:\n",
    "            if val in magazine and Counter(magazine).get(val) > 1:\n",
    "\n",
    "                check.append(True)\n",
    "            else:\n",
    "                check.append(False)\n",
    "\n",
    "        if check == True:\n",
    "            return True\n",
    "        else:\n",
    "            False"
   ]
  },
  {
   "cell_type": "code",
   "execution_count": 2,
   "id": "ff974726",
   "metadata": {},
   "outputs": [
    {
     "name": "stdout",
     "output_type": "stream",
     "text": [
      "Example 1 Solution: None\n"
     ]
    }
   ],
   "source": [
    "#initialize instance of class\n",
    "sol = Solution()\n",
    "\n",
    "#Test case example 1\n",
    "ransomNote = \"aa\"\n",
    "magazine = \"aab\"\n",
    "\n",
    "#Test case Solution\n",
    "print(f'Example 1 Solution: {sol.canConstruct(ransomNote,magazine)}')\n",
    "#Expected: true"
   ]
  },
  {
   "cell_type": "markdown",
   "id": "c520f192",
   "metadata": {},
   "source": [
    "# 2. Code Review"
   ]
  },
  {
   "cell_type": "markdown",
   "id": "bc9c7cd4",
   "metadata": {},
   "source": [
    "#### (a) What the question wants:\n",
    "1.  You are given two strings: ransomNote and magazine.\n",
    "\n",
    "2.  You need to return True if you can form the ransomNote using only letters from magazine.\n",
    "\n",
    "3.  Each letter from magazine can be used only once.\n",
    "\n",
    "4.  Otherwise, return False."
   ]
  },
  {
   "cell_type": "markdown",
   "id": "6dc4aacb",
   "metadata": {},
   "source": [
    "#### (b) What the code is doing:\n",
    "1.  Imported Counter from collections (good idea because it helps count letters).\n",
    "\n",
    "2.  Created an empty list check.\n",
    "\n",
    "3.  Looped through every letter in ransomNote:\n",
    "    -   If the letter exists in magazine and the number of times it appears in magazine is greater than 1:\n",
    "\n",
    "4.  Append True to check.\n",
    "\n",
    "5.  Else, append False.\n",
    "\n",
    "6.  After the loop, check if *check == True* (aim was to return True if everything is good)."
   ]
  },
  {
   "cell_type": "markdown",
   "id": "d484de63",
   "metadata": {},
   "source": [
    "# 3. Issues in the code"
   ]
  },
  {
   "cell_type": "markdown",
   "id": "6b2cc323",
   "metadata": {},
   "source": [
    "Issue      |          Explanation\n",
    "|:---------|:-----------|\n",
    "Counter(magazine) is called inside the loop | The code is recomputing the counts every time. That’s very inefficient (O(N) inside a loop). Should compute once, outside.\n",
    ".get(val) > 1 | The code is checking if the letter appears more than once, but that's not what the problem asks. The code should just check if it appears enough times to match ransomNote needs. (even 1 time could be fine).\n",
    "if check == True: | check is a list, not a boolean. So check == True will always be False unless check is exactly [True], which is wrong logic.\n",
    "Missing return False | If the condition fails, the function didn't actually return False, the function would just end without returning anything.\n",
    "Using list check | Instead of a list, better is return early: if any letter is missing, return False immediately. No need to collect results first.\n",
    "Wrong place for Counter usage | The best approach would be use Counter(ransomNote) and Counter(magazine) and compare counts properly."
   ]
  },
  {
   "cell_type": "markdown",
   "id": "1482cdeb",
   "metadata": {},
   "source": [
    "# 4. Corrected Code"
   ]
  },
  {
   "cell_type": "code",
   "execution_count": 3,
   "id": "f29e7efa",
   "metadata": {},
   "outputs": [],
   "source": [
    "from collections import Counter\n",
    "\n",
    "class Solution:\n",
    "    def canConstruct(self, ransomNote: str, magazine: str) -> bool:\n",
    "        ransom_counter = Counter(ransomNote)\n",
    "        magazine_counter = Counter(magazine)\n",
    "\n",
    "        \n",
    "        for char, count in ransom_counter.items():\n",
    "            if magazine_counter[char] < count:\n",
    "                return False\n",
    "        return True\n"
   ]
  },
  {
   "cell_type": "code",
   "execution_count": 4,
   "id": "d3788640",
   "metadata": {},
   "outputs": [
    {
     "name": "stdout",
     "output_type": "stream",
     "text": [
      "Example 1 Solution: True\n"
     ]
    }
   ],
   "source": [
    "#initialize instance of class\n",
    "sol = Solution()\n",
    "\n",
    "#Test case example 1\n",
    "ransomNote = \"aa\"\n",
    "magazine = \"aab\"\n",
    "\n",
    "#Test case Solution\n",
    "print(f'Example 1 Solution: {sol.canConstruct(ransomNote,magazine)}')\n",
    "#Expected: true"
   ]
  },
  {
   "cell_type": "markdown",
   "id": "066e9be7",
   "metadata": {},
   "source": [
    "**Explanation:**\n",
    "\n",
    "1.  Counter(ransomNote) counts how many times each letter is needed.\n",
    "\n",
    "2.  Counter(magazine) counts how many times each letter is available.\n",
    "\n",
    "3.  For each character in the ransomNote:\n",
    "\n",
    "    -   If the magazine doesn’t have enough of that character, return False immediately.\n",
    "\n",
    "    -   If the function gets through the loop, return True at the end."
   ]
  },
  {
   "cell_type": "markdown",
   "id": "102ea025",
   "metadata": {},
   "source": [
    "# 5. Key Teaching Points"
   ]
  },
  {
   "cell_type": "markdown",
   "id": "fbc3874e",
   "metadata": {},
   "source": [
    "*Understand the problem conditions exactly:*\n",
    "\n",
    "Here, it is about matching counts, not just existence.\n",
    "\n",
    "1.  Efficiency matters:\n",
    "\n",
    "    -   Calling Counter(magazine) inside a loop makes it O(N²). Doing it once makes it O(N).\n",
    "\n",
    "2.  Data structures:\n",
    "\n",
    "    -   Counter is very helpful for problems involving counting things.\n",
    "\n",
    "3.  Returning early:\n",
    "\n",
    "    -   Instead of collecting all results in a list and checking later, often it’s cleaner to return early when the function detects a failure.\n",
    "\n",
    "4.  Boolean comparisons:\n",
    "\n",
    "    -   A list is not equal to True — be careful about what types you are comparing.\n",
    "\n",
    "5.  Always ensure your function returns a value:\n",
    "\n",
    "    -   The code was missing a final return False.\n",
    "\n"
   ]
  },
  {
   "cell_type": "markdown",
   "id": "444ce622",
   "metadata": {},
   "source": [
    "# 6. Conclusion and Future Works"
   ]
  },
  {
   "cell_type": "markdown",
   "id": "44d90178",
   "metadata": {},
   "source": [
    " Good instinct using Counter! You were on the right track. Just needed to organize the logic better.\n",
    "\n",
    "*   What to practice next:\n",
    "\n",
    "    -   More problems involving collections.Counter, like anagrams (Valid Anagram LeetCode 242).\n",
    "\n",
    "    -   Learn about early returns and how they make code faster and cleaner.\n",
    "\n",
    "    -   Practice a few string manipulation problems"
   ]
  },
  {
   "cell_type": "markdown",
   "id": "796543e4",
   "metadata": {},
   "source": []
  }
 ],
 "metadata": {
  "kernelspec": {
   "display_name": "myenv",
   "language": "python",
   "name": "python3"
  },
  "language_info": {
   "codemirror_mode": {
    "name": "ipython",
    "version": 3
   },
   "file_extension": ".py",
   "mimetype": "text/x-python",
   "name": "python",
   "nbconvert_exporter": "python",
   "pygments_lexer": "ipython3",
   "version": "3.11.9"
  }
 },
 "nbformat": 4,
 "nbformat_minor": 5
}
