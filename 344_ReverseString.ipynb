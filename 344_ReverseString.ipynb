{
 "cells": [
  {
   "cell_type": "markdown",
   "metadata": {},
   "source": [
    "# 344 Reverse String"
   ]
  },
  {
   "cell_type": "markdown",
   "metadata": {},
   "source": [
    "## Question \n",
    "\n",
    "Write a function that reverses a string. The input string is given as an array of characters s.\n",
    "\n",
    "You must do this by modifying the input array in-place with O(1) extra memory.\n",
    "</p>\n",
    "Example 1:\n",
    "</p>\n",
    "<li> Input: s = [\"h\",\"e\",\"l\",\"l\",\"o\"]\n",
    "<li> Output: [\"o\",\"l\",\"l\",\"e\",\"h\"]\n",
    "</p>\n",
    "\n",
    "Example 2:\n",
    "</p>\n",
    "<li> Input: s = [\"H\",\"a\",\"n\",\"n\",\"a\",\"h\"]\n",
    "<li> Output: [\"h\",\"a\",\"n\",\"n\",\"a\",\"H\"]\n",
    " \n",
    "</p>\n",
    "Constraints:\n",
    "</p>\n",
    "<li> 1 <= s.length <= 105\n",
    "<li> s[i] is a printable ascii character."
   ]
  },
  {
   "cell_type": "markdown",
   "metadata": {},
   "source": [
    "## Step 1: Understanding the Question\n",
    "\n",
    "We're given a list of characters (like [\"h\", \"e\", \"l\", \"l\", \"o\"]) and need to reverse the order in place (without creating a new list).\n",
    "\n",
    "For example:\n",
    "\n",
    "Input: [\"h\", \"e\", \"l\", \"l\", \"o\"]\n",
    "Output: [\"o\", \"l\", \"l\", \"e\", \"h\"]\n",
    "\n",
    "Key requirements:\n",
    "<li> Modify the list directly (without creating a new one)\n",
    "<li> Use O(1) extra memory (which means no new list, just swap elements)\n",
    "<li> The function should not return anything (just change s in place)"
   ]
  },
  {
   "cell_type": "markdown",
   "metadata": {},
   "source": [
    "# Step 2: My Solution"
   ]
  },
  {
   "cell_type": "code",
   "execution_count": 1,
   "metadata": {},
   "outputs": [],
   "source": [
    "class Solution(object):\n",
    "    def reverseString(self, s):\n",
    "        \"\"\"\n",
    "        :type s: List[str]\n",
    "        :rtype: None Do not return anything, modify s in-place instead.\n",
    "        \"\"\"\n",
    "        ''' 1. find length of array of letter\n",
    "            2. create a range for a loop(for)\n",
    "            3. replace the last element with the first\n",
    "        '''\n",
    "\n",
    "        s_len = len(s)\n",
    "        i= 1\n",
    "        if s_len%2 ==0:\n",
    "            #print(s_len)\n",
    "            #print(list(range(1,s_len+1)))\n",
    "            s_range = (s_len/2)\n",
    "            print(s_range)\n",
    "            print(list(range(1,s_range+1)))\n",
    "            for i in range(1,s_range+1):\n",
    "                s[-i] = s[i-(s_range+1)]\n",
    "            s\n",
    "        \n",
    "        elif s_len%2 != 0:\n",
    "            s_range = (s_len/2)\n",
    "            print(s_range)\n",
    "            print(list(range(1,s_range+1)))\n",
    "            for i in range(1,s_range+1):\n",
    "                s[-i] = s[i-(s_range+1)]\n",
    "            s\n",
    "\n",
    "        "
   ]
  },
  {
   "cell_type": "code",
   "execution_count": 4,
   "metadata": {},
   "outputs": [
    {
     "name": "stdout",
     "output_type": "stream",
     "text": [
      "2.5\n"
     ]
    },
    {
     "ename": "TypeError",
     "evalue": "'float' object cannot be interpreted as an integer",
     "output_type": "error",
     "traceback": [
      "\u001b[1;31m---------------------------------------------------------------------------\u001b[0m",
      "\u001b[1;31mTypeError\u001b[0m                                 Traceback (most recent call last)",
      "Cell \u001b[1;32mIn[4], line 8\u001b[0m\n\u001b[0;32m      5\u001b[0m s \u001b[38;5;241m=\u001b[39m [\u001b[38;5;124m\"\u001b[39m\u001b[38;5;124mh\u001b[39m\u001b[38;5;124m\"\u001b[39m,\u001b[38;5;124m\"\u001b[39m\u001b[38;5;124me\u001b[39m\u001b[38;5;124m\"\u001b[39m,\u001b[38;5;124m\"\u001b[39m\u001b[38;5;124ml\u001b[39m\u001b[38;5;124m\"\u001b[39m,\u001b[38;5;124m\"\u001b[39m\u001b[38;5;124ml\u001b[39m\u001b[38;5;124m\"\u001b[39m,\u001b[38;5;124m\"\u001b[39m\u001b[38;5;124mo\u001b[39m\u001b[38;5;124m\"\u001b[39m]\n\u001b[0;32m      7\u001b[0m \u001b[38;5;66;03m#Test solution\u001b[39;00m\n\u001b[1;32m----> 8\u001b[0m sol\u001b[38;5;241m.\u001b[39mreverseString(s)\n",
      "Cell \u001b[1;32mIn[1], line 27\u001b[0m, in \u001b[0;36mSolution.reverseString\u001b[1;34m(self, s)\u001b[0m\n\u001b[0;32m     25\u001b[0m s_range \u001b[38;5;241m=\u001b[39m (s_len\u001b[38;5;241m/\u001b[39m\u001b[38;5;241m2\u001b[39m)\n\u001b[0;32m     26\u001b[0m \u001b[38;5;28mprint\u001b[39m(s_range)\n\u001b[1;32m---> 27\u001b[0m \u001b[38;5;28mprint\u001b[39m(\u001b[38;5;28mlist\u001b[39m(\u001b[38;5;28mrange\u001b[39m(\u001b[38;5;241m1\u001b[39m,s_range\u001b[38;5;241m+\u001b[39m\u001b[38;5;241m1\u001b[39m)))\n\u001b[0;32m     28\u001b[0m \u001b[38;5;28;01mfor\u001b[39;00m i \u001b[38;5;129;01min\u001b[39;00m \u001b[38;5;28mrange\u001b[39m(\u001b[38;5;241m1\u001b[39m,s_range\u001b[38;5;241m+\u001b[39m\u001b[38;5;241m1\u001b[39m):\n\u001b[0;32m     29\u001b[0m     s[\u001b[38;5;241m-\u001b[39mi] \u001b[38;5;241m=\u001b[39m s[i\u001b[38;5;241m-\u001b[39m(s_range\u001b[38;5;241m+\u001b[39m\u001b[38;5;241m1\u001b[39m)]\n",
      "\u001b[1;31mTypeError\u001b[0m: 'float' object cannot be interpreted as an integer"
     ]
    }
   ],
   "source": [
    "#create an instance of the class\n",
    "sol = Solution()\n",
    "\n",
    "#Test Cases example\n",
    "s = [\"h\",\"e\",\"l\",\"l\",\"o\"]\n",
    "\n",
    "#Test solution\n",
    "sol.reverseString(s)"
   ]
  },
  {
   "cell_type": "markdown",
   "metadata": {},
   "source": [
    "# Step 2: Assessing My Solution\n",
    "</p>\n",
    "My approach tries to:\n",
    "\n",
    "<li>Find the length of the list (s_len).\n",
    "<li>Determine the middle index (s_range).\n",
    "<li>Use a loop to swap elements from the start and end of the list.\n",
    "</p>\n",
    "However, there's a logical issue in how elements are being swapped.\n",
    "\n",
    "\n",
    "## Problems with my code\n",
    "\n",
    "##### *Using s_len/2 Instead of s_len//2*\n",
    "* s_range = s_len / 2 gives a float (e.g., 5/2 = 2.5 instead of 2).\n",
    "* need // (integer division): s_range = s_len // 2.\n",
    "\n",
    "##### *Incorrect Indexing When Swapping*\n",
    "\n",
    "* s[-i] = s[i-(s_range+1)] doesn't correctly swap the first and last elements.\n",
    "* It should swap s[i] with s[s_len - i - 1].\n",
    "\n"
   ]
  },
  {
   "cell_type": "markdown",
   "metadata": {},
   "source": [
    "# Step 3: How to Fix It\n",
    "#### *Correct Approach:*\n",
    "* Use two pointers: one at the beginning (left) and one at the end (right).\n",
    "* Swap s[left] with s[right].\n",
    "* Move the pointers toward the center until they meet"
   ]
  },
  {
   "cell_type": "code",
   "execution_count": 12,
   "metadata": {},
   "outputs": [],
   "source": [
    "class Solution(object):\n",
    "    def reverseString(self, s):\n",
    "        \"\"\"\n",
    "        :type s: List[str]\n",
    "        :rtype: None. Modifies s in-place.\n",
    "        \"\"\"\n",
    "        left, right = 0, len(s) - 1  # Two pointers at start and end\n",
    "        \n",
    "        while left < right:\n",
    "            s[left], s[right] = s[right], s[left]  # Swap characters\n",
    "            left += 1  # Move left pointer forward\n",
    "            right -= 1  # Move right pointer backward\n",
    "\n",
    "        print(s)# print the value\n",
    "\n"
   ]
  },
  {
   "cell_type": "code",
   "execution_count": 13,
   "metadata": {},
   "outputs": [
    {
     "name": "stdout",
     "output_type": "stream",
     "text": [
      "['o', 'l', 'l', 'e', 'h']\n"
     ]
    }
   ],
   "source": [
    "#create instance of class\n",
    "sol = Solution()\n",
    "\n",
    "#call function \n",
    "sol.reverseString(s)"
   ]
  },
  {
   "cell_type": "code",
   "execution_count": 14,
   "metadata": {},
   "outputs": [
    {
     "name": "stdout",
     "output_type": "stream",
     "text": [
      "['h', 'a', 'n', 'n', 'a', 'H']\n"
     ]
    }
   ],
   "source": [
    "#create instance of class\n",
    "sol = Solution()\n",
    "\n",
    "s = [\"H\",\"a\",\"n\",\"n\",\"a\",\"h\"]\n",
    "\n",
    "#call function \n",
    "sol.reverseString(s)"
   ]
  },
  {
   "cell_type": "markdown",
   "metadata": {},
   "source": [
    "# Step 4: Optimizing for Efficiency\n",
    "#### *Why This Works Well:*\n",
    "* Uses two-pointer swapping, which is more efficient than looping through half the list.\n",
    "* Time Complexity: O(n) (we swap n/2 times, so still linear).\n",
    "* Space Complexity: O(1) (no extra memory is used)."
   ]
  },
  {
   "cell_type": "markdown",
   "metadata": {},
   "source": [
    "# Conclusion:\n",
    "#### *My solution close but had indexing issues.*\n",
    "\n",
    "* Using two pointers simplifies the swaps and avoids unnecessary calculations\n",
    "* Always test edge cases (e.g., single-character lists, empty lists, long lists)\n"
   ]
  },
  {
   "cell_type": "markdown",
   "metadata": {},
   "source": []
  }
 ],
 "metadata": {
  "kernelspec": {
   "display_name": "base",
   "language": "python",
   "name": "python3"
  },
  "language_info": {
   "codemirror_mode": {
    "name": "ipython",
    "version": 3
   },
   "file_extension": ".py",
   "mimetype": "text/x-python",
   "name": "python",
   "nbconvert_exporter": "python",
   "pygments_lexer": "ipython3",
   "version": "3.11.5"
  }
 },
 "nbformat": 4,
 "nbformat_minor": 2
}
