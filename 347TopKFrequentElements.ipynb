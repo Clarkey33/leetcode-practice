{
 "cells": [
  {
   "cell_type": "markdown",
   "id": "52eaf4e6",
   "metadata": {},
   "source": [
    "# 347. Top K Frequent Elements"
   ]
  },
  {
   "cell_type": "markdown",
   "id": "d4deed7f",
   "metadata": {},
   "source": [
    "## Question\n",
    "Given an integer array nums and an integer k, return the k most frequent elements. You may return the answer in any order.\n",
    "\n",
    " \n",
    "*Example 1:*\n",
    "-    Input: nums = [1,1,1,2,2,3], k = 2\n",
    "-    Output: [1,2]\n",
    "\n",
    "\n",
    "*Example 2:*\n",
    "-   Input: nums = [1], k = 1\n",
    "-   Output: [1]\n",
    " \n",
    "\n",
    "**Constraints:**\n",
    "\n",
    "1.  1 <= nums.length <= 105\n",
    "2.  -104 <= nums[i] <= 104\n",
    "3.  k is in the range [1, the number of unique elements in the array].\n",
    "4.  It is guaranteed that the answer is unique.\n",
    " \n",
    "\n",
    "*Follow up: Your algorithm's time complexity must be better than O(n log n), where n is the array's size.*"
   ]
  },
  {
   "cell_type": "markdown",
   "id": "f4a115d6",
   "metadata": {},
   "source": [
    "# 1. Attempted Solution"
   ]
  },
  {
   "cell_type": "code",
   "execution_count": 4,
   "id": "687e77fa",
   "metadata": {},
   "outputs": [],
   "source": [
    "class Solution:\n",
    "    def topKFrequent(self, nums: list[int], k: int) -> list[int]:\n",
    "        from collections import Counter\n",
    "\n",
    "        \"\"\"1. Counter() to count frequencies\n",
    "         2. most_common(k) to order the list with k most frequent int\n",
    "         3. return list with only k frequent int\"\"\"\n",
    "\n",
    "        #1. Frequency count\n",
    "        freq_count = Counter(nums)\n",
    "        #print(freq_count)\n",
    "\n",
    "        #2. List with k most frequent\n",
    "        return [x[0] for x in freq_count.most_common(k)]"
   ]
  },
  {
   "cell_type": "code",
   "execution_count": null,
   "id": "d477f997",
   "metadata": {},
   "outputs": [
    {
     "name": "stdout",
     "output_type": "stream",
     "text": [
      "Example 1 solution: [1, 2]\n"
     ]
    }
   ],
   "source": [
    "#initialize instance of class\n",
    "sol= Solution()\n",
    "\n",
    "#Test case example 1\n",
    "nums = [1,1,1,2,2,3]\n",
    "k= 2\n",
    "\n",
    "#Test case solution\n",
    "print(f\"Example 1 solution: {sol.topKFrequent(nums,k)}\")\n",
    "#Expected: [1,2]"
   ]
  },
  {
   "cell_type": "markdown",
   "id": "97418d77",
   "metadata": {},
   "source": [
    "# 2. Review Code Solution"
   ]
  },
  {
   "cell_type": "markdown",
   "id": "d3770cd3",
   "metadata": {},
   "source": [
    "**a. What is the question asking?**\n",
    "LeetCode 347. Top K Frequent Elements wants you to:\n",
    "\n",
    "-   Take a list of integers nums and an integer k.\n",
    "\n",
    "-   Return the k most frequent elements from nums.\n",
    "\n",
    "Key algorithmic pattern:\n",
    "-   This is a classic frequency counting + top-k problem.\n",
    "\n",
    "-   A hash map (dictionary or Counter) is great for counting frequencies.\n",
    "\n",
    "-   A heap or bucket sort can be used to retrieve the top k efficiently."
   ]
  },
  {
   "cell_type": "markdown",
   "id": "4bc6354a",
   "metadata": {},
   "source": [
    "**b. What is your code doing?**\n",
    "\n",
    "*CODE*\n",
    "from collections import Counter\n",
    "\n",
    "*   Count frequency of each element\n",
    "    -   `freq_count = Counter(nums)`\n",
    "\n",
    "*   Extract the k most common (returns list of tuples: (element, frequency))\n",
    "    then return just the element part\n",
    "    -   `return [x[0] for x in freq_count.most_common(k)]`\n",
    "\n",
    "\n",
    "This code is:\n",
    "\n",
    "1.  Correct\n",
    "2.  Simple\n",
    "3.  Not optimal for large input (because most_common() internally sorts)"
   ]
  },
  {
   "cell_type": "markdown",
   "id": "8ce62003",
   "metadata": {},
   "source": [
    " # 3. Mistakes and Issues"
   ]
  },
  {
   "cell_type": "markdown",
   "id": "6eaa6ace",
   "metadata": {},
   "source": [
    "a.  Time Complexity Violation\n",
    "    -   freq_count.most_common(k) uses O(n log n) due to sorting under the hood.\n",
    "    -   Problem specifically asks for better than O(n log n).\n",
    "\n",
    "b.  Edge Case Testing\n",
    "    -   The code handles normal cases well, but here's an edge case to test:\n",
    "\n",
    "    -   `nums = [4,4,4,6,6,6,7], k = 2`\n",
    "    -   `Output could be [4,6] or [6,4]` → both are fine, but sorting assumptions must be clear\n"
   ]
  },
  {
   "cell_type": "markdown",
   "id": "1e54fa7d",
   "metadata": {},
   "source": [
    "# 4. Correct and Optimized Code"
   ]
  },
  {
   "cell_type": "code",
   "execution_count": null,
   "id": "03b245ca",
   "metadata": {},
   "outputs": [],
   "source": [
    "#Bucket Sort (O(n) time) technique\n",
    "class Solution:\n",
    "    def topKFrequent(self, nums: list[int], k: int) -> list[int]:\n",
    "        from collections import defaultdict\n",
    "\n",
    "        # 1. Frequency count\n",
    "        freq_map = defaultdict(int)\n",
    "        for num in nums:\n",
    "            freq_map[num] += 1\n",
    "\n",
    "        # 2. Bucket sort: index = frequency, value = list of elements\n",
    "        bucket = [[] for _ in range(len(nums) + 1)]\n",
    "        for num, freq in freq_map.items():\n",
    "            bucket[freq].append(num)\n",
    "\n",
    "        # 3. Collect top k frequent from the end of the bucket (high freq first)\n",
    "        res = []\n",
    "        for i in range(len(bucket) - 1, 0, -1):\n",
    "            for num in bucket[i]:\n",
    "                res.append(num)\n",
    "                if len(res) == k:\n",
    "                    return res\n"
   ]
  },
  {
   "cell_type": "code",
   "execution_count": null,
   "id": "939dc01e",
   "metadata": {},
   "outputs": [
    {
     "name": "stdout",
     "output_type": "stream",
     "text": [
      "Example 2 solution: [4, 6]\n"
     ]
    }
   ],
   "source": [
    "#initialize instance of class\n",
    "sol= Solution()\n",
    "\n",
    "#Test case example 2\n",
    "nums = [4,4,4,6,6,6,7]\n",
    "k = 2\n",
    "\n",
    "#Test case solution\n",
    "print(f\"Example 2 solution: {sol.topKFrequent(nums,k)}\")\n",
    "#Expected: [4,6] "
   ]
  },
  {
   "cell_type": "code",
   "execution_count": 10,
   "id": "0a9c342a",
   "metadata": {},
   "outputs": [],
   "source": [
    "# Min Heap (also O(n log k)) technique\n",
    "\n",
    "class Solution:\n",
    "    def topKFrequent(self, nums: list[int], k: int) -> list[int]:\n",
    "        import heapq\n",
    "        from collections import Counter\n",
    "        freq = Counter(nums)\n",
    "        return [item for item, count in heapq.nlargest(k, freq.items(), key=lambda x: x[1])]\n"
   ]
  },
  {
   "cell_type": "code",
   "execution_count": 11,
   "id": "712f96cb",
   "metadata": {},
   "outputs": [
    {
     "name": "stdout",
     "output_type": "stream",
     "text": [
      "Example 2 solution: [5, 6]\n"
     ]
    }
   ],
   "source": [
    "#initialize instance of class\n",
    "sol= Solution()\n",
    "\n",
    "#Test case example 2\n",
    "nums = [5,5,5,6,6,6,7]\n",
    "k = 2\n",
    "\n",
    "#Test case solution\n",
    "print(f\"Example 2 solution: {sol.topKFrequent(nums,k)}\")\n",
    "#Expected: [5,6]"
   ]
  },
  {
   "cell_type": "markdown",
   "id": "2ff0459b",
   "metadata": {},
   "source": [
    "# 5. Key Teaching Points"
   ]
  },
  {
   "cell_type": "markdown",
   "id": "748e760c",
   "metadata": {},
   "source": [
    "1.  `Counter()` is powerful, but `.most_common()` sorts internally (O(n log n)), which is not optimal for top-k problems with large input.\n",
    "\n",
    "2.  Bucket Sort is a great trick for frequency problems since frequency values are bounded between 1 and n.\n",
    "\n",
    "3.  Heaps (heapq) are useful when you want \"top k\" and are okay with O(n log k)."
   ]
  },
  {
   "cell_type": "markdown",
   "id": "188b71c8",
   "metadata": {},
   "source": [
    "# 6. Concluding Thoughts + Further Practice"
   ]
  },
  {
   "cell_type": "markdown",
   "id": "1ed499bc",
   "metadata": {},
   "source": [
    "**Suggested Follow-up Problems:**\n",
    "*   692. Top K Frequent Words (Medium)\n",
    "\n",
    "*   451. Sort Characters by Frequency (Medium)\n",
    "\n",
    "*   215. Kth Largest Element in an Array (Medium)\n",
    "\n",
    "**Tips for Growth:**\n",
    "1.  Think about problem constraints—if it says “better than O(n log n),” your solution must avoid built-in sorts.\n",
    "\n",
    "2.  Use a heap when you want partial sorting (like top k).\n",
    "\n",
    "3.  Practice identifying problems that can be solved via frequency + sorting, hashmaps + buckets, or heap optimizations."
   ]
  },
  {
   "cell_type": "markdown",
   "id": "4458a90a",
   "metadata": {},
   "source": []
  }
 ],
 "metadata": {
  "kernelspec": {
   "display_name": "myenv",
   "language": "python",
   "name": "python3"
  },
  "language_info": {
   "codemirror_mode": {
    "name": "ipython",
    "version": 3
   },
   "file_extension": ".py",
   "mimetype": "text/x-python",
   "name": "python",
   "nbconvert_exporter": "python",
   "pygments_lexer": "ipython3",
   "version": "3.11.9"
  }
 },
 "nbformat": 4,
 "nbformat_minor": 5
}
