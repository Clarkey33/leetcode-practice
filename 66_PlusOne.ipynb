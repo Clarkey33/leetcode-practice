{
 "cells": [
  {
   "cell_type": "markdown",
   "metadata": {},
   "source": [
    "# 66. Plus One"
   ]
  },
  {
   "cell_type": "markdown",
   "metadata": {},
   "source": [
    "### Question:\n",
    "\n",
    "You are given a large integer represented as an integer array digits, where each digits[i] is the ith digit of the integer. The digits are ordered from most significant to least significant in left-to-right order. The large integer does not contain any leading 0's.\n",
    "\n",
    "Increment the large integer by one and return the resulting array of digits."
   ]
  },
  {
   "cell_type": "markdown",
   "metadata": {},
   "source": [
    "### Examples\n",
    "\n",
    "*Example 1*\n",
    "\n",
    "Input: digits = [1,2,3]\n",
    "</p>\n",
    "Output: [1,2,4]\n",
    "</p>\n",
    "Explanation: The array represents the integer 123.\n",
    "</p>\n",
    "Incrementing by one gives 123 + 1 = 124.\n",
    "</p>\n",
    "Thus, the result should be [1,2,4].\n"
   ]
  },
  {
   "cell_type": "markdown",
   "metadata": {},
   "source": []
  },
  {
   "cell_type": "markdown",
   "metadata": {},
   "source": [
    "\n",
    "*Example 2*\n",
    "\n",
    "Input: digits = [4,3,2,1]\n",
    "</p>\n",
    "Output: [4,3,2,2]\n",
    "</p>\n",
    "Explanation: The array represents the integer 4321.\n",
    "</p>\n",
    "Incrementing by one gives 4321 + 1 = 4322.\n",
    "</p>\n",
    "Thus, the result should be [4,3,2,2].\n",
    "</p>"
   ]
  },
  {
   "cell_type": "markdown",
   "metadata": {},
   "source": [
    "*Example 3* \n",
    "\n",
    "Input: digits = [9]\n",
    "</p>\n",
    "Output: [1,0]\n",
    "</p>\n",
    "Explanation: The array represents the integer 9.\n",
    "</p>\n",
    "Incrementing by one gives 9 + 1 = 10.\n",
    "</p>\n",
    "Thus, the result should be [1,0].\n",
    "</p>"
   ]
  },
  {
   "cell_type": "markdown",
   "metadata": {},
   "source": [
    "# Step 1: My Attempted Solution"
   ]
  },
  {
   "cell_type": "code",
   "execution_count": 1,
   "metadata": {},
   "outputs": [],
   "source": [
    "class Solution(object):\n",
    "    def plusOne(self, digits):\n",
    "        \"\"\"\n",
    "        :type digits: List[int]\n",
    "        :rtype: List[int]\n",
    "        \"\"\"\n",
    "        \n",
    "        large_num = \"\"\n",
    "        for i in digits:\n",
    "            large_num += str(i)\n",
    "        print(large_num)\n",
    "        large_num = int(large_num)\n",
    "\n",
    "        num = large_num + 1\n",
    "        result = [i for i in num ]\n",
    "        num= list(large_num)\n",
    "\n",
    "       \n",
    "\n",
    "        return num"
   ]
  },
  {
   "cell_type": "code",
   "execution_count": 3,
   "metadata": {},
   "outputs": [
    {
     "name": "stdout",
     "output_type": "stream",
     "text": [
      "123\n"
     ]
    },
    {
     "ename": "TypeError",
     "evalue": "'int' object is not iterable",
     "output_type": "error",
     "traceback": [
      "\u001b[1;31m---------------------------------------------------------------------------\u001b[0m",
      "\u001b[1;31mTypeError\u001b[0m                                 Traceback (most recent call last)",
      "Cell \u001b[1;32mIn[3], line 7\u001b[0m\n\u001b[0;32m      4\u001b[0m \u001b[38;5;66;03m#Test Case Example\u001b[39;00m\n\u001b[0;32m      5\u001b[0m digits \u001b[38;5;241m=\u001b[39m [\u001b[38;5;241m1\u001b[39m,\u001b[38;5;241m2\u001b[39m,\u001b[38;5;241m3\u001b[39m]\n\u001b[1;32m----> 7\u001b[0m \u001b[43msol\u001b[49m\u001b[38;5;241;43m.\u001b[39;49m\u001b[43mplusOne\u001b[49m\u001b[43m(\u001b[49m\u001b[43mdigits\u001b[49m\u001b[43m)\u001b[49m\n\u001b[0;32m      9\u001b[0m \u001b[38;5;66;03m#expected [1,2,4]\u001b[39;00m\n",
      "Cell \u001b[1;32mIn[1], line 15\u001b[0m, in \u001b[0;36mSolution.plusOne\u001b[1;34m(self, digits)\u001b[0m\n\u001b[0;32m     12\u001b[0m large_num \u001b[38;5;241m=\u001b[39m \u001b[38;5;28mint\u001b[39m(large_num)\n\u001b[0;32m     14\u001b[0m num \u001b[38;5;241m=\u001b[39m large_num \u001b[38;5;241m+\u001b[39m \u001b[38;5;241m1\u001b[39m\n\u001b[1;32m---> 15\u001b[0m result \u001b[38;5;241m=\u001b[39m \u001b[43m[\u001b[49m\u001b[43mi\u001b[49m\u001b[43m \u001b[49m\u001b[38;5;28;43;01mfor\u001b[39;49;00m\u001b[43m \u001b[49m\u001b[43mi\u001b[49m\u001b[43m \u001b[49m\u001b[38;5;129;43;01min\u001b[39;49;00m\u001b[43m \u001b[49m\u001b[43mnum\u001b[49m\u001b[43m \u001b[49m\u001b[43m]\u001b[49m\n\u001b[0;32m     16\u001b[0m num\u001b[38;5;241m=\u001b[39m \u001b[38;5;28mlist\u001b[39m(large_num)\n\u001b[0;32m     20\u001b[0m \u001b[38;5;28;01mreturn\u001b[39;00m num\n",
      "\u001b[1;31mTypeError\u001b[0m: 'int' object is not iterable"
     ]
    }
   ],
   "source": [
    "#create an instance of the class\n",
    "sol = Solution()\n",
    "\n",
    "#Test Case Example\n",
    "digits = [1,2,3]\n",
    "\n",
    "sol.plusOne(digits)\n",
    "\n",
    "#expected [1,2,4]\n"
   ]
  },
  {
   "cell_type": "markdown",
   "metadata": {},
   "source": [
    "# Step 2: Assessing My Solution"
   ]
  },
  {
   "cell_type": "markdown",
   "metadata": {},
   "source": [
    "approach attempts to solve the problem by:\n",
    "\n",
    "<li> Converting the list of digits into a string.\n",
    "<li> Converting that string into an integer.\n",
    "<li> Adding 1 to the integer.\n",
    "<li> Converting the result back into a list of digits."
   ]
  },
  {
   "cell_type": "markdown",
   "metadata": {},
   "source": [
    "### a) Incorrect List Comprehension for result\n",
    "\n",
    "<li> result = [i for i in num ]\n",
    "<li> num is an integer, not an iterable like a string or list. This will raise a TypeError.\n",
    "<li>Solution: Convert num into a string first before using list comprehension."
   ]
  },
  {
   "cell_type": "markdown",
   "metadata": {},
   "source": [
    "### b) Incorrect Reassignment of num\n",
    "\n",
    "<li> num= list(large_num)\n",
    "<li> large_num is an integer, and list() cannot be applied directly to an integer.\n",
    "<li> Solution: Convert large_num into a string first."
   ]
  },
  {
   "cell_type": "markdown",
   "metadata": {},
   "source": [
    "### c) Unnecessary print() Statment\n",
    "\n",
    "<li> print(large_num) is not required for the solution."
   ]
  },
  {
   "cell_type": "markdown",
   "metadata": {},
   "source": [
    "# Step 3: Optimal Response"
   ]
  },
  {
   "cell_type": "code",
   "execution_count": 5,
   "metadata": {},
   "outputs": [],
   "source": [
    "class Solution(object):\n",
    "    def plusOne(self, digits):\n",
    "        \"\"\"\n",
    "        :type digits: List[int]\n",
    "        :rtype: List[int]\n",
    "        \"\"\"\n",
    "        # Convert list of digits to a single integer\n",
    "        large_num = int(\"\".join(map(str, digits)))\n",
    "        \n",
    "        # Add 1 to the integer\n",
    "        num = large_num + 1\n",
    "        \n",
    "        # Convert the new number back into a list of digits\n",
    "        return [int(i) for i in str(num)]\n"
   ]
  },
  {
   "cell_type": "code",
   "execution_count": 6,
   "metadata": {},
   "outputs": [
    {
     "data": {
      "text/plain": [
       "[1, 2, 4]"
      ]
     },
     "execution_count": 6,
     "metadata": {},
     "output_type": "execute_result"
    }
   ],
   "source": [
    "#create an instance of the class\n",
    "sol = Solution()\n",
    "\n",
    "#Test Case Example\n",
    "digits = [1,2,3]\n",
    "\n",
    "sol.plusOne(digits)\n",
    "\n",
    "#expected [1,2,4]"
   ]
  },
  {
   "cell_type": "markdown",
   "metadata": {},
   "source": [
    "# Step 4: Learning Points"
   ]
  },
  {
   "cell_type": "markdown",
   "metadata": {},
   "source": [
    "### a) String Manipulation & Conversion\n",
    "\n",
    "<li> Instead of manually concatenating numbers into a string:</li>\n",
    "\n",
    "<ul>large_num = \"\"</ul>\n",
    "<ul>for i in digits:</ul>\n",
    "<ul>    large_num += str(i) </ul>\n",
    "\n",
    "<li> Use Python's join() method:</li>\n",
    "\n",
    "<ul>large_num = \"\".join(map(str, digits))</ul>\n",
    "<ul> #This is faster and more Pythonic.</ul>"
   ]
  },
  {
   "cell_type": "markdown",
   "metadata": {},
   "source": [
    "### b) List Comprehension\n",
    "\n",
    "<li> Instead of looping through each digit: </li>\n",
    "\n",
    "<ul> result = [] </ul>\n",
    "<ul> for i in str(num): </ul>\n",
    "    <ul> result.append(int(i))</ul>\n",
    "\n",
    "<li> Use list comprehension: </li>\n",
    "\n",
    "<ul> result = [int(i) for i in str(num)] </ul>\n",
    "<ul> #More concise and efficient. </ul>"
   ]
  },
  {
   "cell_type": "markdown",
   "metadata": {},
   "source": [
    "### c)Avoid Unnecessary Reassignments\n",
    "\n",
    "<li> Original code had:</li>\n",
    "\n",
    "<ul>num = list(large_num)</ul>\n",
    "<ul> #This is redundant because large_num is an integer at that point.\n",
    "Always ensure variable types match the expected operations. </ul>"
   ]
  },
  {
   "cell_type": "markdown",
   "metadata": {},
   "source": [
    "### d) Handling Edge Cases\n",
    "\n",
    "<li> The corrected solution automatically handles cases like [9,9,9] → [1,0,0,0] without requiring manual carry-over logic. </li>"
   ]
  },
  {
   "cell_type": "markdown",
   "metadata": {},
   "source": [
    "# Conclusion\n",
    "\n",
    "<li> My logic was on the right track but had issues with type handling.</li>\n",
    "<li> Keep practicing problems involving list transformations, string manipulation, and integer operations.</li>\n",
    "<li>Try solving this problem without converting to an integer, using carry-over logic (for an even more efficient approach).</li>\n",
    "<ul> Example: Iterating from the last digit, handling 9 → 0 carry situations.</ul>\n",
    "<li>Consider exploring bitwise operations and modular arithmetic for alternative solutions.</li>"
   ]
  },
  {
   "cell_type": "markdown",
   "metadata": {},
   "source": []
  }
 ],
 "metadata": {
  "kernelspec": {
   "display_name": "myenv",
   "language": "python",
   "name": "python3"
  },
  "language_info": {
   "codemirror_mode": {
    "name": "ipython",
    "version": 3
   },
   "file_extension": ".py",
   "mimetype": "text/x-python",
   "name": "python",
   "nbconvert_exporter": "python",
   "pygments_lexer": "ipython3",
   "version": "3.11.9"
  }
 },
 "nbformat": 4,
 "nbformat_minor": 2
}
