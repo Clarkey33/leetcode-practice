{
 "cells": [
  {
   "cell_type": "code",
   "execution_count": 1,
   "metadata": {},
   "outputs": [],
   "source": [
    "# 35. Search Insert Position"
   ]
  },
  {
   "cell_type": "markdown",
   "metadata": {},
   "source": [
    "# Question\n",
    "\n",
    "Given a sorted array of distinct integers and a target value, return the index if the target is found. If not, return the index where it would be if it were inserted in order.\n",
    "</p>\n",
    "You must write an algorithm with O(log n) runtime complexity.\n",
    "</p>\n",
    " \n",
    "\n",
    "Example 1:\n",
    "\n",
    "<li> Input: nums = [1,3,5,6], target = 5\n",
    "</p>\n",
    "<li> Output: 2\n",
    "</p>\n",
    "\n",
    "Example 2:\n",
    "\n",
    "<li> Input: nums = [1,3,5,6], target = 2\n",
    "</p>\n",
    "<li> Output: 1\n",
    "\n",
    "</p>\n",
    "Example 3:\n",
    "\n",
    "<li> Input: nums = [1,3,5,6], target = 7\n",
    "</p>\n",
    "<li> Output: 4\n",
    "</p>\n",
    " \n",
    "</p>\n",
    "Constraints:\n",
    "\n",
    "1 <= nums.length <= 104\n",
    "</p>\n",
    "-104 <= nums[i] <= 104\n",
    "</p>\n",
    "nums contains distinct values sorted in ascending order.\n",
    "</p>\n",
    "-104 <= target <= 104"
   ]
  },
  {
   "cell_type": "markdown",
   "metadata": {},
   "source": [
    "# Step 1: My Attempted Solution"
   ]
  },
  {
   "cell_type": "code",
   "execution_count": 1,
   "metadata": {},
   "outputs": [],
   "source": [
    "class Solution(object):\n",
    "    def searchInsert(self, nums, target):\n",
    "        \"\"\"\n",
    "        :type nums: List[int]\n",
    "        :type target: int\n",
    "        :rtype: int\n",
    "        \"\"\"\n",
    "        ''' \n",
    "        1. Iterate through list\n",
    "        2. check if element == target; if equal return i as index; if not continue\n",
    "        3. if taget not in list\n",
    "        4. find element = target -1\n",
    "\n",
    "        '''\n",
    "        i = 0\n",
    "        k = 0\n",
    "\n",
    "        if target not in nums:\n",
    "            for i in range(len(nums)):\n",
    "                if nums[i] == target-1:\n",
    "                    k=i+1\n",
    "                else:\n",
    "                    continue\n",
    "\n",
    "        else:\n",
    "            for i in range(len(nums)):\n",
    "                if nums[i] != target:\n",
    "                    i +=1\n",
    "                    continue\n",
    "                else:\n",
    "                    k= i\n",
    "                    break\n",
    "\n",
    "        return k"
   ]
  },
  {
   "cell_type": "code",
   "execution_count": null,
   "metadata": {},
   "outputs": [
    {
     "data": {
      "text/plain": [
       "0"
      ]
     },
     "execution_count": 2,
     "metadata": {},
     "output_type": "execute_result"
    }
   ],
   "source": [
    "#create an instance of the class\n",
    "sol = Solution()\n",
    "\n",
    "#Test Case Example\n",
    "nums = [3,6,7,8,10]\n",
    "target = 5\n",
    "\n",
    "sol.searchInsert(nums, target)\n",
    "\n",
    "#expected answer : 1\n"
   ]
  },
  {
   "cell_type": "markdown",
   "metadata": {},
   "source": [
    "# Step 2: Assessing My Solution"
   ]
  },
  {
   "cell_type": "markdown",
   "metadata": {},
   "source": [
    "The approach is mostly correct in concept, but there are a few logical errors and inefficiencies that need improvement. Let's go through them step by step"
   ]
  },
  {
   "cell_type": "markdown",
   "metadata": {},
   "source": [
    "#### 1. Redundant Iteration\n",
    "\n",
    "The code iterates twice in different conditions:\n",
    "</p>\n",
    "<li> First, when the target is not found.\n",
    "<li> Second, when the target is found.\n",
    "</p>\n",
    "A single binary search approach would be more effective to handle both cases "
   ]
  },
  {
   "cell_type": "markdown",
   "metadata": {},
   "source": [
    "#### 2. Incorrect Target Insertion Index\n",
    "\n",
    "The approach for inseting the element is flawed. The code is checking:\n",
    "\n",
    "if nums[i] == target - 1:\n",
    "</p>\n",
    "    k = i + 1\n",
    "</p>\n",
    "\n",
    "This only works if target-1 exists in nums, but what if target should be placed at index 0 or at the end?"
   ]
  },
  {
   "cell_type": "markdown",
   "metadata": {},
   "source": [
    "#### 3. Unnecessary Variable (i) in Else Block\n",
    "This part:\n",
    "\n",
    "\n",
    "for i in range(len(nums)):\n",
    "<ul>\n",
    "    if nums[i] != target:\n",
    "    <ul>\n",
    "        i += 1  # This does nothing since `i` is a loop variable.\n",
    "        </p>\n",
    "        continue\n",
    "        </p>\n",
    "        \n",
    "\n",
    "i += 1 does not affect the loop because i is redefined in for i in range(len(nums)). \n",
    "This would have been useful if it were a while loop"
   ]
  },
  {
   "cell_type": "markdown",
   "metadata": {},
   "source": [
    "# Step 3: Optimal Response"
   ]
  },
  {
   "cell_type": "code",
   "execution_count": 3,
   "metadata": {},
   "outputs": [],
   "source": [
    "class Solution(object):\n",
    "    def searchInsert(self, nums, target):\n",
    "        \"\"\"\n",
    "        :type nums: List[int]\n",
    "        :type target: int\n",
    "        :rtype: int\n",
    "        \"\"\"\n",
    "        left, right = 0, len(nums) - 1  # Binary search boundaries\n",
    "\n",
    "        while left <= right:\n",
    "            mid = (left + right) // 2  # Midpoint index\n",
    "\n",
    "            if nums[mid] == target:\n",
    "                return mid  # Target found, return index\n",
    "            elif nums[mid] < target:\n",
    "                left = mid + 1  # Move search to right half\n",
    "            else:\n",
    "                right = mid - 1  # Move search to left half\n",
    "        \n",
    "        # If target is not found, left will be the correct insert position\n",
    "        return left\n"
   ]
  },
  {
   "cell_type": "code",
   "execution_count": 4,
   "metadata": {},
   "outputs": [
    {
     "data": {
      "text/plain": [
       "1"
      ]
     },
     "execution_count": 4,
     "metadata": {},
     "output_type": "execute_result"
    }
   ],
   "source": [
    "#create an instance of the class\n",
    "sol = Solution()\n",
    "\n",
    "#Test Case Example\n",
    "nums = [3,6,7,8,10]\n",
    "target = 5\n",
    "\n",
    "sol.searchInsert(nums, target)\n",
    "\n",
    "#expected answer : 1\n"
   ]
  },
  {
   "cell_type": "markdown",
   "metadata": {},
   "source": [
    "# Step 4: Learning Points"
   ]
  },
  {
   "cell_type": "markdown",
   "metadata": {},
   "source": [
    "<li> Use Binary Search for Sorted Arrays:</li>\n",
    "\n",
    "<ul> Your O(n) loop is slow; Binary Search reduces it to O(log n).</ul>\n",
    "\n",
    "<li> Correctly Determine the Insert Position:</li>\n",
    "\n",
    "<ul> Instead of checking target - 1, the left pointer at the end of Binary Search gives the correct insertion index.</ul>\n",
    "\n",
    "<li> Avoid Unnecessary Iterations:</li>\n",
    "\n",
    "<ul> My first approach iterates unnecessarily twice. Binary Search eliminates redundant checks.</ul>"
   ]
  },
  {
   "cell_type": "markdown",
   "metadata": {},
   "source": []
  }
 ],
 "metadata": {
  "kernelspec": {
   "display_name": "myenv",
   "language": "python",
   "name": "python3"
  },
  "language_info": {
   "codemirror_mode": {
    "name": "ipython",
    "version": 3
   },
   "file_extension": ".py",
   "mimetype": "text/x-python",
   "name": "python",
   "nbconvert_exporter": "python",
   "pygments_lexer": "ipython3",
   "version": "3.11.9"
  }
 },
 "nbformat": 4,
 "nbformat_minor": 2
}
