{
 "cells": [
  {
   "cell_type": "markdown",
   "metadata": {},
   "source": [
    "# 27. Remove Element"
   ]
  },
  {
   "cell_type": "markdown",
   "metadata": {},
   "source": [
    "Given an integer array nums and an integer val, remove all occurrences of val in nums in-place. The order of the elements may be changed. Then return the number of elements in nums which are not equal to val.\n",
    "\n",
    "Consider the number of elements in nums which are not equal to val be k, to get accepted, you need to do the following things:\n",
    "\n",
    "<li> Change the array nums such that the first k elements of nums contain the elements which are not equal to val. The remaining elements of nums are not important as well as the size of nums.\n",
    "<li> Return k.\n",
    "</p>\n",
    "\n",
    "</p>\n",
    "</p>\n",
    "Constraints:\n",
    "</p>\n",
    "0 <= nums.length <= 100\n",
    "</p>\n",
    "0 <= nums[i] <= 50\n",
    "</p>\n",
    "0 <= val <= 100\n",
    "</p>\n"
   ]
  },
  {
   "cell_type": "markdown",
   "metadata": {},
   "source": [
    "### Example\n",
    "\n",
    "\n",
    "#### 1:\n",
    "\n",
    "Input: nums = [3,2,2,3], val = 3\n",
    "</p>\n",
    "Output: 2, nums = [2,2,_,_]\n",
    "</p>\n",
    "Explanation: Your function should return k = 2, with the first two elements of nums being 2.\n",
    "It does not matter what you leave beyond the returned k (hence they are underscores).\n",
    "</p>\n",
    "\n",
    "#### 2:\n",
    "\n",
    "Input: nums = [0,1,2,2,3,0,4,2], val = 2\n",
    "</p>\n",
    "Output: 5, nums = [0,1,4,0,3,_,_,_]\n",
    "</p>\n",
    "Explanation: Your function should return k = 5, with the first five elements of nums containing 0, 0, 1, 3, and 4.\n",
    "Note that the five elements can be returned in any order.\n",
    "It does not matter what you leave beyond the returned k (hence they are underscores).\n",
    "</p>"
   ]
  },
  {
   "cell_type": "markdown",
   "metadata": {},
   "source": [
    "# Step 1: My Attempted Solution"
   ]
  },
  {
   "cell_type": "code",
   "execution_count": 1,
   "metadata": {},
   "outputs": [],
   "source": [
    "class Solution(object):\n",
    "    def removeElement(self, nums, val):\n",
    "        \"\"\"\n",
    "        :type nums: List[int]\n",
    "        :type val: int\n",
    "        :rtype: int\n",
    "        \"\"\"\n",
    "        \"\"\"\n",
    "        1. check array for val\n",
    "        2. Remove val from array \n",
    "        3. the first location of val in array save index\n",
    "        3. find length up to first occurence of val; call this K\n",
    "        4. Remove val from array \n",
    "        5. return k and array values up to index K \n",
    "        \"\"\"\n",
    "\n",
    "        if val in nums:\n",
    "            idx = nums.index(val)\n",
    "        if idx == 0:\n",
    "            nums = nums[1:]\n",
    "            k= len(nums[:(nums.index(val))])\n",
    "            nums = [x if x != val else '_' for x in nums ]\n",
    "        else:\n",
    "            nums = [x if x != val else x == '_' for x in nums ]\n",
    "            k = len(nums[:idx])\n",
    "           \n",
    "        \n",
    "        return k, nums"
   ]
  },
  {
   "cell_type": "code",
   "execution_count": 2,
   "metadata": {},
   "outputs": [
    {
     "data": {
      "text/plain": [
       "(2, [2, 2, '_'])"
      ]
     },
     "execution_count": 2,
     "metadata": {},
     "output_type": "execute_result"
    }
   ],
   "source": [
    "#create an instance of the class\n",
    "sol = Solution()\n",
    "\n",
    "#Test Case Example\n",
    "nums = [3,2,2,3]\n",
    "val = 3\n",
    "\n",
    "sol.removeElement(nums,val)"
   ]
  },
  {
   "cell_type": "markdown",
   "metadata": {},
   "source": [
    "# Step 2: Assessing My Solution\n",
    "\n",
    "Incorrect Handling of idx\n",
    "\n",
    "You assume that nums.index(val) gives the last occurrence, but it only gives the first.\n",
    "If val is at index 0, your handling is incorrect.\n",
    "You should iterate through nums rather than relying on index()."
   ]
  },
  {
   "cell_type": "markdown",
   "metadata": {},
   "source": [
    "## 1. Incorrect Handling of idx\n",
    "\n",
    "<li> The function assumes that nums.index(val) gives the last occurrence, but it only gives the first.\n",
    "<li> inefficient handling, If val is at index 0\n",
    "</p>\n",
    "\n",
    "#### Alternate approach:\n",
    "<li> Iterating through nums is more efficient than using index()\n",
    "\n",
    "\n",
    "## 2. Does Not Modify nums In-Place:\n",
    "\n",
    "<li> The problem states that the function should modify nums in-place\n",
    "</p>\n",
    "\n",
    "\n",
    "## 3. Does Not Return Just k\n",
    "\n",
    "<li> The problem expects the function to return only k; the function returns (k, nums).\n"
   ]
  },
  {
   "cell_type": "markdown",
   "metadata": {},
   "source": [
    "# Step 3: Optimal Response"
   ]
  },
  {
   "cell_type": "code",
   "execution_count": 3,
   "metadata": {},
   "outputs": [],
   "source": [
    "class Solution(object):\n",
    "    def removeElement(self, nums, val):\n",
    "        \"\"\"\n",
    "        :type nums: List[int]\n",
    "        :type val: int\n",
    "        :rtype: int\n",
    "        \"\"\"\n",
    "        k = 0  # Count of elements not equal to val\n",
    "        \n",
    "        for i in range(len(nums)):\n",
    "            if nums[i] != val:\n",
    "                nums[k] = nums[i]  # Shift valid elements to the front\n",
    "                k += 1  # Increment count of valid elements\n",
    "        \n",
    "        return k\n"
   ]
  },
  {
   "cell_type": "code",
   "execution_count": 4,
   "metadata": {},
   "outputs": [
    {
     "data": {
      "text/plain": [
       "2"
      ]
     },
     "execution_count": 4,
     "metadata": {},
     "output_type": "execute_result"
    }
   ],
   "source": [
    "#create an instance of the class\n",
    "sol = Solution()\n",
    "\n",
    "#Test Case Example\n",
    "nums = [3,2,2,3]\n",
    "val = 3\n",
    "\n",
    "sol.removeElement(nums,val)"
   ]
  },
  {
   "cell_type": "markdown",
   "metadata": {},
   "source": [
    "# Step 4: Learning Points\n",
    "\n",
    "<li> Avoid Using .index() for Removal\n",
    "\n",
    "index() only finds the first occurrence and is inefficient in loops.\n",
    "</p>\n",
    "Instead, iterate over nums directly.\n",
    "Instead of using index(), loop through nums to shift non-val elements forward.\n",
    "This ensures all elements not equal to val are placed at the beginning.\n",
    "</p>\n",
    "\n",
    "<li> Modify Lists In-Place Using Two Pointers\n",
    "\n",
    "This is efficient and avoids extra memory usage.\n",
    "</p>\n",
    "Use Two-Pointer Approach for In-Place Modification\n",
    "</p>\n",
    "k acts as an index to overwrite elements.\n",
    "If nums[i] is not val, it gets stored at nums[k].\n",
    "This avoids creating a new list.\n",
    "</p>\n",
    "\n",
    "<li> List Comprehensions Are Not Always Suitable\n",
    "Use loops for in-place modifications instead."
   ]
  },
  {
   "cell_type": "markdown",
   "metadata": {},
   "source": []
  }
 ],
 "metadata": {
  "kernelspec": {
   "display_name": "myenv",
   "language": "python",
   "name": "python3"
  },
  "language_info": {
   "codemirror_mode": {
    "name": "ipython",
    "version": 3
   },
   "file_extension": ".py",
   "mimetype": "text/x-python",
   "name": "python",
   "nbconvert_exporter": "python",
   "pygments_lexer": "ipython3",
   "version": "3.11.9"
  }
 },
 "nbformat": 4,
 "nbformat_minor": 2
}
