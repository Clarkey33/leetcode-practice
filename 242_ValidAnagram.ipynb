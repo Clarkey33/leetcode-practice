{
 "cells": [
  {
   "cell_type": "markdown",
   "id": "1e2b9a96",
   "metadata": {},
   "source": [
    "# 242. Valid Anagram"
   ]
  },
  {
   "cell_type": "markdown",
   "id": "ca424b3c",
   "metadata": {},
   "source": [
    "## Question\n",
    "\n",
    "*Given two strings s and t, return true if t is an anagram of s, and false otherwise.*\n",
    "\n",
    "*Example 1:*\n",
    "*   Input: s = \"anagram\", t = \"nagaram\"\n",
    "*   Output: true\n",
    "\n",
    "*Example 2:*\n",
    "*   Input: s = \"rat\", t = \"car\"\n",
    "*   Output: false\n",
    "\n",
    " \n",
    "\n",
    "*Constraints:*\n",
    "1.  1 <= s.length, t.length <= 5 * 104\n",
    "2.  s and t consist of lowercase English letters."
   ]
  },
  {
   "cell_type": "markdown",
   "id": "c71be0df",
   "metadata": {},
   "source": [
    "# 1. My Solution"
   ]
  },
  {
   "cell_type": "code",
   "execution_count": 1,
   "id": "4873e43d",
   "metadata": {},
   "outputs": [],
   "source": [
    "class Solution:\n",
    "    def isAnagram(self, s: str, t: str) -> bool:\n",
    "        from collections import Counter\n",
    "\n",
    "        freq_s = Counter(s)\n",
    "        freq_t = Counter(t)\n",
    "\n",
    "        if freq_s == freq_t:\n",
    "            return True\n",
    "        else:\n",
    "            return False"
   ]
  },
  {
   "cell_type": "code",
   "execution_count": null,
   "id": "ee2f1ffa",
   "metadata": {},
   "outputs": [
    {
     "name": "stdout",
     "output_type": "stream",
     "text": [
      "Example 1: True\n",
      "Example 2: False\n"
     ]
    }
   ],
   "source": [
    "#initialize instance of class\n",
    "sol = Solution()\n",
    "\n",
    "#Test case example 1\n",
    "s = \"anagram\"\n",
    "t = \"nagaram\"\n",
    "\n",
    "#Test solution\n",
    "print(f'Example 1: {sol.isAnagram(s,t)}')\n",
    "#Expected: True \n",
    "\n",
    "#Test case example 2\n",
    "s = \"rat\"\n",
    "t = \"car\"\n",
    "\n",
    "#Test solution\n",
    "print(f'Example 2: {sol.isAnagram(s,t)}')\n",
    "#Expected: False"
   ]
  },
  {
   "cell_type": "markdown",
   "id": "fd61fa34",
   "metadata": {},
   "source": [
    "# 2. Code Review"
   ]
  },
  {
   "cell_type": "markdown",
   "id": "105cb1ee",
   "metadata": {},
   "source": [
    "1.  This is a clean and correct implementation! \n",
    "2.  Collections.Counter is used effectively, which is one of the most Pythonic ways to solve this problem."
   ]
  },
  {
   "cell_type": "markdown",
   "id": "7ed328d8",
   "metadata": {},
   "source": [
    "# 3. Issues in the Code"
   ]
  },
  {
   "cell_type": "markdown",
   "id": "7a5180bb",
   "metadata": {},
   "source": [
    "1.  The code logic is correct and the implementation is efficient. \n",
    "\n",
    "2.  There's just one small thing that can be improved stylistically:\n",
    "\n",
    "    *   if freq_s == freq_t:\n",
    "        *   return True\n",
    "    *   else:\n",
    "        *   return False\n",
    "\n",
    "    *   This can be simplified to:\n",
    "        -   return freq_s == freq_t\n",
    "        \n",
    "        *Because freq_s == freq_t already evaluates to a boolean (True or False).*\n",
    "\n"
   ]
  },
  {
   "cell_type": "markdown",
   "id": "74ca98ee",
   "metadata": {},
   "source": [
    "# 4. Corrected Code"
   ]
  },
  {
   "cell_type": "code",
   "execution_count": 5,
   "id": "d98dee5c",
   "metadata": {},
   "outputs": [],
   "source": [
    "from collections import Counter\n",
    "\n",
    "class Solution:\n",
    "    def isAnagram(self, s: str, t: str) -> bool:\n",
    "        return Counter(s) == Counter(t)\n",
    "\n",
    "#This is clean, readable, and efficient — just one line in the function body."
   ]
  },
  {
   "cell_type": "code",
   "execution_count": 6,
   "id": "45f0abb5",
   "metadata": {},
   "outputs": [
    {
     "name": "stdout",
     "output_type": "stream",
     "text": [
      "Example 1: True\n",
      "Example 2: False\n"
     ]
    }
   ],
   "source": [
    "#initialize instance of class\n",
    "sol = Solution()\n",
    "\n",
    "#Test case example 1\n",
    "s = \"anagram\"\n",
    "t = \"nagaram\"\n",
    "\n",
    "#Test solution\n",
    "print(f'Example 1: {sol.isAnagram(s,t)}')\n",
    "#Expected: True \n",
    "\n",
    "#Test case example 2\n",
    "s = \"rat\"\n",
    "t = \"car\"\n",
    "\n",
    "#Test solution\n",
    "print(f'Example 2: {sol.isAnagram(s,t)}')\n",
    "#Expected: False"
   ]
  },
  {
   "cell_type": "markdown",
   "id": "a2f4d05e",
   "metadata": {},
   "source": [
    "# 5. Key Teaching Points"
   ]
  },
  {
   "cell_type": "markdown",
   "id": "6c2b6648",
   "metadata": {},
   "source": [
    "*   Anagram Definition: Two strings are anagrams if they have the exact same characters with the exact same frequency.\n",
    "\n",
    "*   Using Counter:\n",
    "\n",
    "    -   Counter is a dictionary subclass designed to count hashable objects.\n",
    "\n",
    "    -   It's an excellent tool when you want to compare character frequencies or perform histogram-style analysis.\n",
    "\n",
    "*   Complexity:\n",
    "\n",
    "    -   Time Complexity: O(n + m) where n is the length of s and m is the length of t.\n",
    "\n",
    "    -   Space Complexity: O(1) if we assume fixed character space (26 lowercase English letters).\n",
    "\n"
   ]
  },
  {
   "cell_type": "markdown",
   "id": "f2998671",
   "metadata": {},
   "source": [
    "# 6. Conclusion and Future Works"
   ]
  },
  {
   "cell_type": "markdown",
   "id": "8ff656e9",
   "metadata": {},
   "source": [
    "1.  What was done well:\n",
    "\n",
    "    +   Picked the right tool (Counter) for the job.\n",
    "\n",
    "    +   Code logic is sound and aligned perfectly with the problem constraints.\n",
    "\n",
    "2.  Suggestions for next steps:\n",
    "\n",
    "    +   Try solving the problem without using Counter. This will help reinforce the understanding of dictionaries and manual frequency counting.\n",
    "\n",
    "    +   Explore other problems that involve string manipulation and frequency counts, such as:\n",
    "\n",
    "        -   LeetCode 49: Group Anagrams\n",
    "\n",
    "        -   LeetCode 20: Valid Parentheses\n",
    "\n",
    "        -   LeetCode 3: Longest Substring Without Repeating Characters"
   ]
  }
 ],
 "metadata": {
  "kernelspec": {
   "display_name": "myenv",
   "language": "python",
   "name": "python3"
  },
  "language_info": {
   "codemirror_mode": {
    "name": "ipython",
    "version": 3
   },
   "file_extension": ".py",
   "mimetype": "text/x-python",
   "name": "python",
   "nbconvert_exporter": "python",
   "pygments_lexer": "ipython3",
   "version": "3.11.9"
  }
 },
 "nbformat": 4,
 "nbformat_minor": 5
}
