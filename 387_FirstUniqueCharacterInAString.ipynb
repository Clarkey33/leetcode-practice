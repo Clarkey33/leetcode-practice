{
 "cells": [
  {
   "cell_type": "markdown",
   "id": "b5d026b5",
   "metadata": {},
   "source": [
    "# 387. First Unique Character in a String"
   ]
  },
  {
   "cell_type": "markdown",
   "id": "faa310cf",
   "metadata": {},
   "source": [
    "## Question\n",
    "\n",
    "Given a string s, find the first non-repeating character in it and return its index. If it does not exist, return -1.\n",
    "\n",
    " \n",
    "\n",
    "*Example 1:*\n",
    "\n",
    "-   Input: s = \"leetcode\"\n",
    "-   Output: 0\n",
    "\n",
    "Explanation:\n",
    "The character 'l' at index 0 is the first character that does not occur at any other index.\n",
    "\n",
    "*Example 2:*\n",
    "\n",
    "-   Input: s = \"loveleetcode\"\n",
    "-   Output: 2\n",
    "\n",
    "\n",
    "*Example 3:*\n",
    "\n",
    "-   Input: s = \"aabb\"\n",
    "-   Output: -1\n",
    "\n",
    " \n",
    "\n",
    "*Constraints:*\n",
    "\n",
    "1.  1 <= s.length <= 105\n",
    "2.  s consists of only lowercase English letters."
   ]
  },
  {
   "cell_type": "markdown",
   "id": "5d37a5f5",
   "metadata": {},
   "source": [
    "# 1. My Solution"
   ]
  },
  {
   "cell_type": "code",
   "execution_count": 1,
   "id": "3e63540c",
   "metadata": {},
   "outputs": [],
   "source": [
    "class Solution:\n",
    "    def firstUniqChar(self, s: str) -> int:\n",
    "        from collections import Counter\n",
    "\n",
    "        freq = Counter(s)\n",
    "        non_rpt=[]\n",
    "\n",
    "        for i in freq.keys():\n",
    "            if freq[i] == 1:\n",
    "                non_rpt.append(i)\n",
    "\n",
    "\n",
    "        for val in s:\n",
    "            if val in non_rpt:\n",
    "                y= s.index(val)\n",
    "                print(y)\n",
    "                return y\n",
    "                break\n",
    "            if y == s[-1]:\n",
    "                return -1"
   ]
  },
  {
   "cell_type": "code",
   "execution_count": 2,
   "id": "36a4d257",
   "metadata": {},
   "outputs": [
    {
     "ename": "UnboundLocalError",
     "evalue": "cannot access local variable 'y' where it is not associated with a value",
     "output_type": "error",
     "traceback": [
      "\u001b[1;31m---------------------------------------------------------------------------\u001b[0m",
      "\u001b[1;31mUnboundLocalError\u001b[0m                         Traceback (most recent call last)",
      "Cell \u001b[1;32mIn[2], line 8\u001b[0m\n\u001b[0;32m      5\u001b[0m s \u001b[38;5;241m=\u001b[39m \u001b[38;5;124m\"\u001b[39m\u001b[38;5;124mloveleetcode\u001b[39m\u001b[38;5;124m\"\u001b[39m\n\u001b[0;32m      7\u001b[0m \u001b[38;5;66;03m#Test solution\u001b[39;00m\n\u001b[1;32m----> 8\u001b[0m \u001b[38;5;28mprint\u001b[39m(\u001b[38;5;124mf\u001b[39m\u001b[38;5;124m'\u001b[39m\u001b[38;5;124mExample 1 result: \u001b[39m\u001b[38;5;132;01m{\u001b[39;00m\u001b[43msol\u001b[49m\u001b[38;5;241;43m.\u001b[39;49m\u001b[43mfirstUniqChar\u001b[49m\u001b[43m(\u001b[49m\u001b[43ms\u001b[49m\u001b[43m)\u001b[49m\u001b[38;5;132;01m}\u001b[39;00m\u001b[38;5;124m'\u001b[39m)\n\u001b[0;32m      9\u001b[0m \u001b[38;5;66;03m#expected: 2\u001b[39;00m\n",
      "Cell \u001b[1;32mIn[1], line 19\u001b[0m, in \u001b[0;36mSolution.firstUniqChar\u001b[1;34m(self, s)\u001b[0m\n\u001b[0;32m     17\u001b[0m     \u001b[38;5;28;01mreturn\u001b[39;00m y\n\u001b[0;32m     18\u001b[0m     \u001b[38;5;28;01mbreak\u001b[39;00m\n\u001b[1;32m---> 19\u001b[0m \u001b[38;5;28;01mif\u001b[39;00m \u001b[43my\u001b[49m \u001b[38;5;241m==\u001b[39m s[\u001b[38;5;241m-\u001b[39m\u001b[38;5;241m1\u001b[39m]:\n\u001b[0;32m     20\u001b[0m     \u001b[38;5;28;01mreturn\u001b[39;00m \u001b[38;5;241m-\u001b[39m\u001b[38;5;241m1\u001b[39m\n",
      "\u001b[1;31mUnboundLocalError\u001b[0m: cannot access local variable 'y' where it is not associated with a value"
     ]
    }
   ],
   "source": [
    "#initialize instance of class\n",
    "sol= Solution()\n",
    "\n",
    "#Test case example 1\n",
    "s = \"loveleetcode\"\n",
    "\n",
    "#Test solution\n",
    "print(f'Example 1 result: {sol.firstUniqChar(s)}')\n",
    "#expected: 2"
   ]
  },
  {
   "cell_type": "markdown",
   "id": "d4148116",
   "metadata": {},
   "source": []
  },
  {
   "cell_type": "markdown",
   "id": "70d2935a",
   "metadata": {},
   "source": [
    "# 2. Code Review"
   ]
  },
  {
   "cell_type": "markdown",
   "id": "474dda4c",
   "metadata": {},
   "source": [
    "The code is trying to:\n",
    "\n",
    "1.  Count the frequency of characters using Counter ✅\n",
    "\n",
    "2.  Identify non-repeating characters ✅\n",
    "\n",
    "3.  Return the index of the first such character ✅\n",
    "\n",
    "*The code logic is close, and is on the right track using Counter — however, there are a few issues to address.*"
   ]
  },
  {
   "cell_type": "markdown",
   "id": "c61e7c44",
   "metadata": {},
   "source": [
    "# 3. Issues in the code"
   ]
  },
  {
   "cell_type": "markdown",
   "id": "dad665ba",
   "metadata": {},
   "source": [
    "1.  Logical Issue with if y == s[-1]:\n",
    "    -   You're comparing an integer (y) to a character (s[-1]). This condition will never be true.\n",
    "\n",
    "2.  Redundant List:\n",
    "    -   non_rpt is not strictly necessary. Already checking frequency **again** in the second loop.\n",
    "\n",
    "3.  Misuse of break:\n",
    "    -   return exits the function, so the break is never executed. It's unnecessary.\n",
    "\n",
    "4.  Edge Case Missing:\n",
    "    -   If no unique character is found, your code will throw an error because y may never get defined."
   ]
  },
  {
   "cell_type": "markdown",
   "id": "8ae817aa",
   "metadata": {},
   "source": [
    "# 4. Corrected Code"
   ]
  },
  {
   "cell_type": "code",
   "execution_count": 3,
   "id": "ef8da067",
   "metadata": {},
   "outputs": [],
   "source": [
    "from collections import Counter\n",
    "\n",
    "class Solution:\n",
    "    def firstUniqChar(self, s: str) -> int:\n",
    "        freq = Counter(s)\n",
    "\n",
    "        for idx, char in enumerate(s):\n",
    "            if freq[char] == 1:\n",
    "                return idx\n",
    "\n",
    "        return -1"
   ]
  },
  {
   "cell_type": "code",
   "execution_count": 4,
   "id": "5ecce79f",
   "metadata": {},
   "outputs": [
    {
     "name": "stdout",
     "output_type": "stream",
     "text": [
      "Example 1 result: 2\n",
      "Example 2 result: 0\n",
      "Example 3 result: -1\n"
     ]
    }
   ],
   "source": [
    "#initialize instance of class\n",
    "sol= Solution()\n",
    "\n",
    "#Test case example 1\n",
    "s = \"loveleetcode\"\n",
    "\n",
    "#Test solution\n",
    "print(f'Example 1 result: {sol.firstUniqChar(s)}')\n",
    "#expected: 2\n",
    "\n",
    "#Test case example 2\n",
    "s = \"leetcode\"\n",
    "\n",
    "#Test solution\n",
    "print(f'Example 2 result: {sol.firstUniqChar(s)}')\n",
    "#expected: 0\n",
    "\n",
    "#Test case example 3\n",
    "s = \"aabb\"\n",
    "\n",
    "#Test solution\n",
    "print(f'Example 3 result: {sol.firstUniqChar(s)}')\n",
    "#expected: -1"
   ]
  },
  {
   "cell_type": "markdown",
   "id": "10bb2064",
   "metadata": {},
   "source": [
    "# 5. Key Teaching Points"
   ]
  },
  {
   "cell_type": "markdown",
   "id": "e39deeb2",
   "metadata": {},
   "source": [
    "1.  Use enumerate():\n",
    "    -   Instead of calling .index() inside a loop (which costs O(n)), enumerate() gives both index and value directly in one pass — more efficient!\n",
    "\n",
    "2.  Avoid unnecessary lists:\n",
    "    -   Appending to non_rpt is an extra step and takes space. You can simplify by checking the frequency directly during iteration.\n",
    "\n",
    "3.  Understand return vs break:\n",
    "    -   return exits the function. break only exits the loop — important to know the difference.\n",
    "\n",
    "4.  Watch variable types:\n",
    "    -   Comparing y == s[-1] mixes int and str. This can lead to hard-to-find bugs."
   ]
  },
  {
   "cell_type": "markdown",
   "id": "9d3bd652",
   "metadata": {},
   "source": [
    "# 6. Conclusion and Future Works"
   ]
  },
  {
   "cell_type": "markdown",
   "id": "351c4f1d",
   "metadata": {},
   "source": [
    "**Here's how to keep improving:**\n",
    "\n",
    "-   Practice using enumerate() and dictionary-like structures (Counter, defaultdict).\n",
    "\n",
    "-   Time complexity awareness: try to avoid .index() in a loop.\n",
    "\n",
    "-   Next step: try Leetcode 451. Sort Characters by Frequency to build on this idea!"
   ]
  },
  {
   "cell_type": "markdown",
   "id": "720ce4b1",
   "metadata": {},
   "source": []
  }
 ],
 "metadata": {
  "kernelspec": {
   "display_name": "myenv",
   "language": "python",
   "name": "python3"
  },
  "language_info": {
   "codemirror_mode": {
    "name": "ipython",
    "version": 3
   },
   "file_extension": ".py",
   "mimetype": "text/x-python",
   "name": "python",
   "nbconvert_exporter": "python",
   "pygments_lexer": "ipython3",
   "version": "3.11.9"
  }
 },
 "nbformat": 4,
 "nbformat_minor": 5
}
