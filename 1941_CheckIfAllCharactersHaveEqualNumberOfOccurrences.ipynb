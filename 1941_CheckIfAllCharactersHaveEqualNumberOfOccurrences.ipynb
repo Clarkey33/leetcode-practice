{
 "cells": [
  {
   "cell_type": "markdown",
   "id": "5c800786",
   "metadata": {},
   "source": [
    "# 1941 Check if All Characters Have Equal Number of Occurrences"
   ]
  },
  {
   "cell_type": "markdown",
   "id": "7b989da7",
   "metadata": {},
   "source": [
    "## Question\n",
    "\n",
    "Given a string s, return true if s is a good string, or false otherwise.\n",
    "</p>\n",
    "A string s is good if all the characters that appear in s have the same number of occurrences (i.e., the same frequency).\n",
    "</p>\n",
    " \n",
    "</p>\n",
    "Example 1:\n",
    "</p>\n",
    "<li> Input: s = \"abacbc\"\n",
    "<li> Output: true\n",
    "<li> Explanation: The characters that appear in s are 'a', 'b', and 'c'. All characters occur 2 times in s.\n",
    "</p>\n",
    "\n",
    "Example 2:\n",
    "</p>\n",
    "<li> Input: s = \"aaabb\"\n",
    "<li> Output: false\n",
    "<li> Explanation: The characters that appear in s are 'a' and 'b'.\n",
    "<li>'a' occurs 3 times while 'b' occurs 2 times, which is not the same number of times.\n",
    "</p>\n",
    " \n",
    "</p>\n",
    "Constraints:\n",
    "</p>\n",
    "<li> 1 <= s.length <= 1000\n",
    "<li> s consists of lowercase English letters."
   ]
  },
  {
   "cell_type": "markdown",
   "id": "9d2c4a4a",
   "metadata": {},
   "source": [
    "## Step 1 : My Solution "
   ]
  },
  {
   "cell_type": "code",
   "execution_count": 7,
   "id": "bdeefc41",
   "metadata": {},
   "outputs": [],
   "source": [
    "class Solution:\n",
    "    def areOccurrencesEqual(self, s: str) -> bool:\n",
    "        #first check all unique elements to count\n",
    "        #Count occurence of each unique element\n",
    "        # n -> number of values in elements\n",
    "        # number of occurences is a multiple of n if true i.e n = 3, occurences is 3x2, 3x3 , 3x4, 3x5 etc\n",
    "        \n",
    "        \n",
    "        elements = set(s)\n",
    "        n = len(elements)\n",
    "        k= 0\n",
    "\n",
    "        for value in elements:\n",
    "            for ele in s:\n",
    "                if value == ele:\n",
    "                    k+=1\n",
    "\n",
    "        if k%n == 0:\n",
    "            return True\n",
    "        else:\n",
    "            return False"
   ]
  },
  {
   "cell_type": "code",
   "execution_count": 8,
   "id": "9814b6cb",
   "metadata": {},
   "outputs": [
    {
     "name": "stdout",
     "output_type": "stream",
     "text": [
      "Example 1: True\n",
      "Example 2: True\n"
     ]
    }
   ],
   "source": [
    "sol = Solution()\n",
    "\n",
    "#test case example 1\n",
    "s = \"abacbc\"\n",
    "\n",
    "#Test solution\n",
    "print(f'Example 1: {sol.areOccurrencesEqual(s)}')\n",
    "#Expected : True\n",
    "\n",
    "\n",
    "#test case example 2\n",
    "s = \"fhojjkontbncdhwxbnexplclvjyexzsvqyyhpfpnvhdskuhkuoihiqgalklqketjikdlgrawhfo\"\n",
    "\n",
    "#Test solution\n",
    "print(f'Example 2: {sol.areOccurrencesEqual(s)}')\n",
    "#Expected : False"
   ]
  },
  {
   "cell_type": "markdown",
   "id": "6953c0f8",
   "metadata": {},
   "source": [
    "## Step 2: Assessing My Solution"
   ]
  },
  {
   "cell_type": "markdown",
   "id": "f4281c2b",
   "metadata": {},
   "source": [
    "<li> The code aims to check whether each character in the string has the same number of occurrences. \n",
    "<li> The string is converted to a set to get unique characters\n",
    "<li> Then a count of how many times each appears and check if the total count k is divisible evenly by the number of unique characters n.\n",
    "</p>\n",
    "The logic makes a good attempt, but it's not quite correct. Let's talk through why.\n",
    "</p>"
   ]
  },
  {
   "cell_type": "markdown",
   "id": "72bc5ef0",
   "metadata": {},
   "source": [
    "#### Issues with the code"
   ]
  },
  {
   "cell_type": "markdown",
   "id": "259f70bc",
   "metadata": {},
   "source": [
    "*Logical Bug:*\n",
    "<li> The code is summing up all occurrences of all unique characters in a single counter k, and then checking if that sum is divisible by the number of unique characters. \n",
    "\n",
    "<li> But this is flawed logic:\n",
    "       - This only works if every character appears the same number of times — AND that number is a factor of the total.\n",
    "       - The test you do with k % n == 0 doesn't actually confirm equal occurrences per character.\n",
    "</p>\n",
    "\n",
    "Example \n",
    "s = \"aabbb\"  # a:2, b:3 -> total count = 5, unique chars = 2\n",
    "k = 5\n",
    "k % 2 == 1 → False (correct result, but wrong reason)\n",
    "\n",
    "But:\n",
    "\n",
    "s = \"aaabbbccc\"  # Each char: 3 times\n",
    "k = 9, n = 3 → 9 % 3 == 0 → True (correct result, lucky logic)\n",
    "\n",
    "So this logic accidentally works for some test cases, but fails generally.\n",
    "\n",
    "\n",
    "\n"
   ]
  },
  {
   "cell_type": "markdown",
   "id": "34a373dd",
   "metadata": {},
   "source": [
    "# Step 3: Better Approach"
   ]
  },
  {
   "cell_type": "markdown",
   "id": "47062f27",
   "metadata": {},
   "source": []
  },
  {
   "cell_type": "code",
   "execution_count": 9,
   "id": "7e47379f",
   "metadata": {},
   "outputs": [
    {
     "name": "stdout",
     "output_type": "stream",
     "text": [
      "Example 2: False\n"
     ]
    }
   ],
   "source": [
    "from collections import Counter\n",
    "\n",
    "class Solution:\n",
    "    def areOccurrencesEqual(self, s: str) -> bool:\n",
    "        freq = Counter(s)\n",
    "        return len(set(freq.values())) == 1\n",
    "    \n",
    "\n",
    "#initialize instance\n",
    "sol = Solution()    \n",
    "\n",
    "#test case example \n",
    "s = \"fhojjkontbncdhwxbnexplclvjyexzsvqyyhpfpnvhdskuhkuoihiqgalklqketjikdlgrawhfo\"\n",
    "\n",
    "#Test solution\n",
    "print(f'Example 2: {sol.areOccurrencesEqual(s)}')\n",
    "#Expected : False"
   ]
  },
  {
   "cell_type": "markdown",
   "id": "cc27ee6a",
   "metadata": {},
   "source": [
    "# Step 4: Conclusion"
   ]
  },
  {
   "cell_type": "markdown",
   "id": "8d455b3a",
   "metadata": {},
   "source": [
    "*This works because:*\n",
    "\n",
    "<li> Counter(s) counts occurrences of each character.\n",
    "\n",
    "<li> freq.values() gives us a list of all the counts.\n",
    "\n",
    "<li> set(freq.values()) turns it into a set of unique values.\n",
    "\n",
    "<li> If there's only one unique value, it means all counts are equal."
   ]
  },
  {
   "cell_type": "markdown",
   "id": "1ffa2d30",
   "metadata": {},
   "source": [
    "### Key takeaways\n",
    "</p>\n",
    "    a. Use the Right Tool:\n",
    "When solving problems with frequency counts, always consider using collections.Counter. It's clean and optimized.\n",
    "</p>\n",
    "    b. Don't Rely on Coincidence:\n",
    "Just because a formula works on sample inputs doesn't mean it's always correct. Look for counterexamples.\n",
    "</p>\n",
    "    c. Avoid Nested Loops When Not Needed:\n",
    "Nested loops like for ele in s inside for value in elements give O(n²) time complexity. Use dictionaries or counters instead.\n",
    "</p>\n",
    "    d. Think in Data Structures:\n",
    "Set → unique elements.\n",
    "</p>\n",
    "Counter → frequency.\n",
    "</p>\n",
    "Set of values → used to check equality in frequencies.\n",
    "</p>"
   ]
  },
  {
   "cell_type": "markdown",
   "id": "d258e987",
   "metadata": {},
   "source": []
  },
  {
   "cell_type": "code",
   "execution_count": null,
   "id": "dab4117c",
   "metadata": {},
   "outputs": [],
   "source": []
  },
  {
   "cell_type": "markdown",
   "id": "0b79f74f",
   "metadata": {},
   "source": []
  }
 ],
 "metadata": {
  "kernelspec": {
   "display_name": "myenv",
   "language": "python",
   "name": "python3"
  },
  "language_info": {
   "codemirror_mode": {
    "name": "ipython",
    "version": 3
   },
   "file_extension": ".py",
   "mimetype": "text/x-python",
   "name": "python",
   "nbconvert_exporter": "python",
   "pygments_lexer": "ipython3",
   "version": "3.11.9"
  }
 },
 "nbformat": 4,
 "nbformat_minor": 5
}
