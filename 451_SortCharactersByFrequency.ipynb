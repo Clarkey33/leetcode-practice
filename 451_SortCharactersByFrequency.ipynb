{
 "cells": [
  {
   "cell_type": "markdown",
   "id": "89135335",
   "metadata": {},
   "source": [
    "# 451. Sort Characters By Frequency"
   ]
  },
  {
   "cell_type": "markdown",
   "id": "cf912cf5",
   "metadata": {},
   "source": [
    "## Question\n",
    "\n",
    "Given a string s, sort it in decreasing order based on the frequency of the characters. The frequency of a character is the number of times it appears in the string.\n",
    "\n",
    "Return the sorted string. If there are multiple answers, return any of them.\n",
    "\n",
    " \n",
    "\n",
    "*Example 1:*\n",
    "\n",
    "-   Input: s = \"tree\"\n",
    "-   Output: \"eert\"\n",
    "*Explanation: 'e' appears twice while 'r' and 't' both appear once.*\n",
    "*So 'e' must appear before both 'r' and 't'. Therefore \"eetr\" is also a valid answer.*\n",
    "\n",
    "*Example 2:*\n",
    "\n",
    "-   Input: s = \"cccaaa\"\n",
    "-   Output: \"aaaccc\"\n",
    "*Explanation: Both 'c' and 'a' appear three times, so both \"cccaaa\" and \"aaaccc\" are valid answers.*\n",
    "*Note that \"cacaca\" is incorrect, as the same characters must be together.*\n",
    "\n",
    "*Example 3:*\n",
    "\n",
    "-   Input: s = \"Aabb\"\n",
    "-   Output: \"bbAa\"\n",
    "*Explanation: \"bbaA\" is also a valid answer, but \"Aabb\" is incorrect.*\n",
    "*Note that 'A' and 'a' are treated as two different characters.*\n",
    " \n",
    "\n",
    "**Constraints:**\n",
    "\n",
    "1.  1 <= s.length <= 5 * 105\n",
    "2.  s consists of uppercase and lowercase English letters and digits."
   ]
  },
  {
   "cell_type": "markdown",
   "id": "585b3454",
   "metadata": {},
   "source": [
    "# Attempted Code Solution"
   ]
  },
  {
   "cell_type": "code",
   "execution_count": null,
   "id": "60609c2d",
   "metadata": {},
   "outputs": [],
   "source": [
    "class Solution:\n",
    "    def frequencySort(self, s: str) -> str:\n",
    "        from collections import Counter\n",
    "        #1. calculate the frequency of each element\n",
    "        #2. Sort from most frequent to least frequent\n",
    "\n",
    "        freq_count = Counter(s)\n",
    "        min_freq = min(freq_count.values()))\n",
    "\n",
    "        for idx, key in enumerate(freq_count):\n",
    "            freq_count[key] == min_freq\n",
    "            #switch index position: highest freq at front lowest at back\n",
    "            freq_count[key] = "
   ]
  },
  {
   "cell_type": "markdown",
   "id": "e14b6eeb",
   "metadata": {},
   "source": [
    "# 2. Review of Code"
   ]
  },
  {
   "cell_type": "markdown",
   "id": "859b9716",
   "metadata": {},
   "source": [
    "a.  What the Question Wants:\n",
    "    -   Sort characters in a string 's' by decreasing frequency (most frequent characters first).\n",
    "        If multiple characters have the same frequency, order among them doesn't matter as long as all same characters are grouped together.\n",
    "\n",
    "b.  What the Code is Doing:\n",
    "    -   Imported Counter to count the frequency — ✅ good first step.\n",
    "\n",
    "*Then the Code attempted to:*\n",
    "\n",
    "1.  Find the minimum frequency (probably meant maximum frequency).\n",
    "\n",
    "2.  Then loop through the keys and (attempt to) update their frequency.\n",
    "\n",
    "*But the code breaks mid-way because:*\n",
    "\n",
    "*   Syntax errors ()) instead of ))\n",
    "\n",
    "*   Logical errors (confusing minimum vs maximum).\n",
    "\n",
    "*   Incorrect approach to sorting."
   ]
  },
  {
   "cell_type": "markdown",
   "id": "0962e922",
   "metadata": {},
   "source": [
    "# 3. Identify Mistakes and/or Issues"
   ]
  },
  {
   "cell_type": "markdown",
   "id": "72c8ac3f",
   "metadata": {},
   "source": [
    "| Issue | Details |\n",
    "|:------|:--------|\n",
    "| *Syntax Error* |  `min_freq = min(freq_count.values()))` → extra closing bracket. \n",
    "| *Wrong Logic* |   You don't need to find minimum frequency. You need to **sort characters by frequency descending**. \n",
    "| *Assignment error* |   `freq_count[key] == min_freq` is **comparison** (`==`), not assignment (`=`). \n",
    "| *Wrong method* | You are trying to **manually switch positions**. That's unnecessary. Python has built-in sorting for this. |\n",
    "| *Incomplete solution* | No final step to **construct the output string** from sorted characters. "
   ]
  },
  {
   "cell_type": "markdown",
   "id": "d8456779",
   "metadata": {},
   "source": [
    "# 4. Corrected Code"
   ]
  },
  {
   "cell_type": "code",
   "execution_count": 1,
   "id": "06e58e71",
   "metadata": {},
   "outputs": [],
   "source": [
    "class Solution:\n",
    "    def frequencySort(self, s: str) -> str:\n",
    "        from collections import Counter\n",
    "        \n",
    "        # Step 1: Count frequency of each character\n",
    "        freq_count = Counter(s)\n",
    "        \n",
    "        # Step 2: Sort characters by frequency descending\n",
    "        sorted_chars = sorted(freq_count.items(), key=lambda item: item[1], reverse=True)\n",
    "        \n",
    "        # Step 3: Build the output string\n",
    "        output = ''\n",
    "        for char, freq in sorted_chars:\n",
    "            output += char * freq  # repeat the character 'freq' times\n",
    "        \n",
    "        return output"
   ]
  },
  {
   "cell_type": "code",
   "execution_count": null,
   "id": "de3e8e01",
   "metadata": {},
   "outputs": [
    {
     "name": "stdout",
     "output_type": "stream",
     "text": [
      "Example 1 Solution: eetr\n"
     ]
    }
   ],
   "source": [
    "#initialize instance of class\n",
    "sol = Solution()\n",
    "\n",
    "#Test case example 1\n",
    "s = \"tree\"\n",
    "\n",
    "#Test case Solution\n",
    "print(f'Example 1 Solution: {sol.frequencySort(s)}')\n",
    "#Expected: \"eert or eert\""
   ]
  },
  {
   "cell_type": "markdown",
   "id": "e4884e50",
   "metadata": {},
   "source": [
    "### Explaing Step 2 of corrected code\n",
    "\n",
    "| Term | Meaning |\n",
    "|:-----|:--------|\n",
    "| key | tells Python **which part** of the item to sort by |\n",
    "| lambda | a mini function to quickly grab a value |\n",
    "| item[1] | pick the **second part** of each tuple (the frequency) |\n",
    "| reverse=True | largest → smallest |\n",
    "\n",
    "\n",
    "*example to illustrate*\n",
    "\n",
    "freq_count.items() = [('a', 3), ('b', 1), ('c', 2)]\n",
    "\n",
    "if you sort normally:\n",
    "-   sorted(freq_count.items())\n",
    "-   Output: [('a', 3), ('b', 1), ('c', 2)]  # Sorts by letters, not frequency\n",
    "\n",
    "But if you sort with key=lambda item: item[1]:\n",
    "-   sorted(freq_count.items(), key=lambda item: item[1])\n",
    "-   Output: [('b', 1), ('c', 2), ('a', 3)]  # Sorted by frequency ascending\n",
    "\n",
    "And with reverse=True:\n",
    "-   sorted(freq_count.items(), key=lambda item: item[1], reverse=True)\n",
    "-   Output: [('a', 3), ('c', 2), ('b', 1)]  # Sorted by frequency descending\n",
    "\n"
   ]
  },
  {
   "cell_type": "markdown",
   "id": "f4036189",
   "metadata": {},
   "source": [
    "# 5. Key Teaching Points"
   ]
  },
  {
   "cell_type": "markdown",
   "id": "ec1e8731",
   "metadata": {},
   "source": [
    "| Concept | Explanation |\n",
    "|:--------|:------------|\n",
    "| *Counter* | Quickly count frequency of elements in O(n). |\n",
    "| *Sorting dictionary items* | `sorted(dict.items(), key=...)` gives you tuples (key, value) sorted by value. |\n",
    "| *Lambda functions* | `lambda item: item[1]` picks the frequency (second element) to sort on. |\n",
    "| *String building* | When you have `(char, freq)`, multiplying `char * freq` easily rebuilds the sorted string. |\n",
    "| *Avoid re-inventing sorting* | Trust Python’s efficient sort algorithms unless the problem *requires* custom sorting. |"
   ]
  },
  {
   "cell_type": "markdown",
   "id": "436e2d29",
   "metadata": {},
   "source": [
    "# 6. Conclusion and Future Works"
   ]
  },
  {
   "cell_type": "markdown",
   "id": "436f9bd0",
   "metadata": {},
   "source": [
    "Good start using Counter.\n",
    "\n",
    "*To improve:*\n",
    "\n",
    "*   Focus more on high-level steps first before coding.\n",
    "\n",
    "*   Think about whether built-in tools (like sorting) can help you.\n",
    "\n",
    "*   Practice sorting dictionary items based on values.\n",
    "\n",
    "*Suggested next LeetCode Problems:*\n",
    "*   347. Top K Frequent Elements (very similar to this)\n",
    "\n",
    "*   692. Top K Frequent Words\n",
    "\n",
    "*   451 (this one!) re-implement using heapq (advanced practice)"
   ]
  },
  {
   "cell_type": "markdown",
   "id": "0ba219f1",
   "metadata": {},
   "source": []
  }
 ],
 "metadata": {
  "kernelspec": {
   "display_name": "myenv",
   "language": "python",
   "name": "python3"
  },
  "language_info": {
   "codemirror_mode": {
    "name": "ipython",
    "version": 3
   },
   "file_extension": ".py",
   "mimetype": "text/x-python",
   "name": "python",
   "nbconvert_exporter": "python",
   "pygments_lexer": "ipython3",
   "version": "3.11.9"
  }
 },
 "nbformat": 4,
 "nbformat_minor": 5
}
