{
 "cells": [
  {
   "cell_type": "code",
   "execution_count": 1,
   "metadata": {},
   "outputs": [],
   "source": [
    "# Definition for singly-linked list.\n",
    "class ListNode(object):\n",
    "    def __init__(self, val=0, next=None):\n",
    "        self.val = val\n",
    "        self.next = next"
   ]
  },
  {
   "cell_type": "markdown",
   "metadata": {},
   "source": [
    "You are given the head of an unsorted linked list. Remove all duplicates so that each element appears only once, but the relative order of the remaining nodes should be preserved. Return the modified linked list."
   ]
  },
  {
   "cell_type": "markdown",
   "metadata": {},
   "source": [
    "Input: head = [4,2,1,3,2,4]  \n",
    "Output: [4,2,1,3]"
   ]
  },
  {
   "cell_type": "code",
   "execution_count": 6,
   "metadata": {},
   "outputs": [
    {
     "name": "stdout",
     "output_type": "stream",
     "text": [
      "4\n",
      "2\n",
      "1\n",
      "3\n",
      "2\n",
      "4\n"
     ]
    }
   ],
   "source": [
    "list_nodes = [4,2,1,3,2,4]\n",
    "\n",
    "head = ListNode(list_nodes[0])\n",
    "current = head\n",
    "for val in list_nodes[1:]:\n",
    "    current.next = ListNode(val)\n",
    "    current = current.next\n",
    "\n",
    "while head is not None:\n",
    "    print(head.val)\n",
    "    head = head.next\n",
    "  \n",
    "    "
   ]
  },
  {
   "cell_type": "code",
   "execution_count": 7,
   "metadata": {},
   "outputs": [],
   "source": [
    "class Solution():\n",
    "\n",
    "    def remove_duplicates(self,head):\n",
    "        current = head  # Start at the head of the list\n",
    "    \n",
    "        while current and current.next:  # While there's a current node and a next node\n",
    "            if current.val == current.next.val:  # Duplicate found\n",
    "                current.next = current.next.next  # Skip the duplicate\n",
    "            else:\n",
    "                current = current.next  # Move to the next node if no duplicate\n",
    "            \n",
    "        return head \n",
    "\n",
    "\n",
    "        "
   ]
  },
  {
   "cell_type": "code",
   "execution_count": 8,
   "metadata": {},
   "outputs": [],
   "source": [
    "sol= Solution()"
   ]
  },
  {
   "cell_type": "code",
   "execution_count": 13,
   "metadata": {},
   "outputs": [],
   "source": [
    "result = sol.remove_duplicates(head)\n",
    "\n",
    "\n",
    "while result is not None:\n",
    "    print(result.val)\n",
    "    result = result.next"
   ]
  }
 ],
 "metadata": {
  "kernelspec": {
   "display_name": "myenv",
   "language": "python",
   "name": "python3"
  },
  "language_info": {
   "codemirror_mode": {
    "name": "ipython",
    "version": 3
   },
   "file_extension": ".py",
   "mimetype": "text/x-python",
   "name": "python",
   "nbconvert_exporter": "python",
   "pygments_lexer": "ipython3",
   "version": "3.11.9"
  }
 },
 "nbformat": 4,
 "nbformat_minor": 2
}
