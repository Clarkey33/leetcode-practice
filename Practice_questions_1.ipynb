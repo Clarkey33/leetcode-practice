{
 "cells": [
  {
   "cell_type": "markdown",
   "id": "d8e80cb9",
   "metadata": {},
   "source": [
    "# Practice"
   ]
  },
  {
   "cell_type": "code",
   "execution_count": 1,
   "id": "27aa6f65",
   "metadata": {},
   "outputs": [],
   "source": [
    "#Prompt: Given a string s, \n",
    "# return the character that appears most frequently. \n",
    "# If there are ties, return any one of them.\n",
    "\n",
    "s = \"abracadabra\""
   ]
  },
  {
   "cell_type": "code",
   "execution_count": 13,
   "id": "70537b5d",
   "metadata": {},
   "outputs": [],
   "source": [
    "class Solution:\n",
    "    def mostFreq(self, s:str) -> str:\n",
    "        from collections import Counter\n",
    "        #1. Count of frequency of all elements\n",
    "        freq_count = Counter(s)\n",
    "\n",
    "        #2. Find max frequency\n",
    "        max_freq = max(freq_count.values())\n",
    "        #print(max_freq)\n",
    "\n",
    "        mst_freq=''\n",
    "        #3 check for string with max value\n",
    "        for key, value in freq_count.items():\n",
    "            if value == max_freq:\n",
    "                mst_freq += key\n",
    "\n",
    "        return mst_freq"
   ]
  },
  {
   "cell_type": "code",
   "execution_count": 11,
   "id": "aecc5950",
   "metadata": {},
   "outputs": [
    {
     "name": "stdout",
     "output_type": "stream",
     "text": [
      "a\n"
     ]
    }
   ],
   "source": [
    "sol= Solution()\n",
    "\n",
    "print(f'{sol.mostFreq(s)}')\n",
    "\n"
   ]
  },
  {
   "cell_type": "code",
   "execution_count": 2,
   "id": "3c1e1d0f",
   "metadata": {},
   "outputs": [],
   "source": [
    "#Problem 2: Given a string 's' of digits, sort them in descending order of frequency. Return a new string.\n",
    "\n",
    "s= \"11223311\""
   ]
  },
  {
   "cell_type": "code",
   "execution_count": 15,
   "id": "e7e92aa2",
   "metadata": {},
   "outputs": [],
   "source": [
    "class Solution:\n",
    "    def FrequencyOrder(self, s:str) -> str:\n",
    "        from collections import Counter\n",
    "\n",
    "        #1. Frequency count of the string\n",
    "        digit_count= Counter(s)\n",
    "        \n",
    "        #2. Sort the string according to most frequent\n",
    "        desc_sorted= sorted(digit_count.items(), key= lambda x: x[1], reverse=True)\n",
    "        \n",
    "        #3 Multiply each string by it's frequency\n",
    "        answer = '' \n",
    "\n",
    "        for key, value in desc_sorted:\n",
    "            answer+= key*value\n",
    "\n",
    "        return answer\n"
   ]
  },
  {
   "cell_type": "code",
   "execution_count": 16,
   "id": "536bd486",
   "metadata": {},
   "outputs": [
    {
     "name": "stdout",
     "output_type": "stream",
     "text": [
      "11112233\n"
     ]
    }
   ],
   "source": [
    "#initialize instance of class\n",
    "sol = Solution()\n",
    "\n",
    "#Test case solution\n",
    "print(f'{sol.FrequencyOrder(s)}')"
   ]
  },
  {
   "cell_type": "code",
   "execution_count": 17,
   "id": "0826ec8b",
   "metadata": {},
   "outputs": [],
   "source": [
    "\n",
    "#Problem 3: Given a string 's', return a list of tuples where each tuple is (character, frequency), sorted from most to least frequent.\n",
    "\n",
    "s= \"banana\"\n",
    "#Expected: [('a', 3), ('n', 2), ('b', 1)]"
   ]
  },
  {
   "cell_type": "code",
   "execution_count": 18,
   "id": "0e0a3acd",
   "metadata": {},
   "outputs": [],
   "source": [
    "class Solution:\n",
    "    def characterFreq(self,s:str)-> str:\n",
    "        from collections import Counter\n",
    "\n",
    "        return Counter(s).most_common() #frequency count and order by most frequent     \n",
    "\n"
   ]
  },
  {
   "cell_type": "code",
   "execution_count": 19,
   "id": "636425ef",
   "metadata": {},
   "outputs": [
    {
     "name": "stdout",
     "output_type": "stream",
     "text": [
      "[('a', 3), ('n', 2), ('b', 1)]\n"
     ]
    }
   ],
   "source": [
    "#initialize class \n",
    "sol = Solution()\n",
    "\n",
    "print(f'{sol.characterFreq(s)}')"
   ]
  },
  {
   "cell_type": "code",
   "execution_count": 21,
   "id": "f894471d",
   "metadata": {},
   "outputs": [],
   "source": [
    "#Problem 4: Given a string s and an integer k, return the k most frequent characters in the string, sorted by frequency (highest to lowest). If two characters have the same frequency, order them alphabetically.\n",
    "\n",
    "#Example 1:\n",
    "#Input: s = \"programming\", k = 2  \n",
    "#Output: ['g', 'm']\n",
    "\n",
    "#Example 2:\n",
    "#Input: s = \"hellohello\", k = 3  \n",
    "#Output: ['l', 'e', 'h']\n",
    "#Explanation: 'l' appears 4 times, 'e' and 'h' appear 2 times each. 'e' and 'h' are sorted alphabetically among ties.\n",
    "\n",
    "s ='hellohello'\n",
    "k= 3"
   ]
  },
  {
   "cell_type": "code",
   "execution_count": 116,
   "id": "0bc98e82",
   "metadata": {},
   "outputs": [],
   "source": [
    "class Solution:\n",
    "    def kFrequency(self,s:str, k:int)-> list:\n",
    "        from collections import Counter\n",
    "\n",
    "        #1. Frequency Count\n",
    "        freq_count = Counter(s)\n",
    "\n",
    "        #2. Sort in Descending order first frequency then alphabetically\n",
    "        kfreq = sorted(freq_count.items(), key= lambda x: (-x[1],x[0]))\n",
    "        \n",
    "        #return k most freq values\n",
    "        return [x for x, _ in kfreq[:k]]"
   ]
  },
  {
   "cell_type": "code",
   "execution_count": 117,
   "id": "54149a52",
   "metadata": {},
   "outputs": [
    {
     "data": {
      "text/plain": [
       "['l', 'e', 'h']"
      ]
     },
     "execution_count": 117,
     "metadata": {},
     "output_type": "execute_result"
    }
   ],
   "source": [
    "sol = Solution()\n",
    "\n",
    "sol.kFrequency(s,k)"
   ]
  },
  {
   "cell_type": "code",
   "execution_count": null,
   "id": "881528b4",
   "metadata": {},
   "outputs": [],
   "source": [
    "#3. Group Characters with Same Frequency\n",
    "    \n",
    "#Given a string s, return a dictionary where keys are frequencies and \n",
    "#values are lists of characters that appear with that frequency. \n",
    "#Sort characters alphabetically inside each list.\n",
    "\n",
    "#Example:\n",
    "\n",
    "#s= \"successes\"\n",
    "#Output: {1: ['u'], 2: ['c'], 3: ['e', 's']}"
   ]
  },
  {
   "cell_type": "code",
   "execution_count": 76,
   "id": "da4a9c3e",
   "metadata": {},
   "outputs": [],
   "source": [
    "s = \"successes\"\n",
    "\n",
    "class Solution:\n",
    "    def groupFrequency(self, s:str) -> dict:\n",
    "        \"\"\"\n",
    "        1. Given a string: INPUT\n",
    "        2. Determine Frequency of each element\n",
    "        3. Group elements with same frequencies in list\n",
    "        4. sort in alphabetical order\n",
    "        5. create dictionary {frequency: []}\n",
    "        \"\"\"\n",
    "        from collections import Counter\n",
    "\n",
    "        #1. Determine frequency\n",
    "        freq_count=Counter(s)\n",
    "        #print(freq_count)\n",
    "\n",
    "        #2. Group similar elements\n",
    "        keys =[*freq_count]\n",
    "        #print(keys)\n",
    "\n",
    "        grp={}\n",
    "       \n",
    "        for key,val in freq_count.items():\n",
    "            if val not in grp:\n",
    "                grp[val]= [key]\n",
    "\n",
    "            else:\n",
    "                grp[val].append(key) \n",
    "\n",
    "        for freq in grp:\n",
    "            grp[freq].sort()              \n",
    "        \n",
    "        return grp\n",
    "       "
   ]
  },
  {
   "cell_type": "code",
   "execution_count": 65,
   "id": "0c8a2f3a",
   "metadata": {},
   "outputs": [],
   "source": [
    "from collections import Counter, defaultdict\n",
    "\n",
    "class Solution:\n",
    "    def groupFrequency(self, s: str) -> dict:\n",
    "        freq_count = Counter(s)\n",
    "        \n",
    "        grouped = defaultdict(list)\n",
    "        print(\"1. grouped:\", grouped)\n",
    "        \n",
    "        # Group characters by frequency\n",
    "        for char, freq in freq_count.items():\n",
    "            print(\"before:\", grouped[freq])\n",
    "            grouped[freq].append(char)\n",
    "            print(\"after:\", grouped[freq])\n",
    "        \n",
    "        print(\"2. grouped:\", grouped)\n",
    "        \n",
    "        # Sort each group alphabetically\n",
    "        for freq in grouped:\n",
    "            grouped[freq].sort()\n",
    "        print(\"3. grouped:\", grouped)\n",
    "        return dict(grouped)\n"
   ]
  },
  {
   "cell_type": "code",
   "execution_count": 77,
   "id": "bc9c3833",
   "metadata": {},
   "outputs": [
    {
     "name": "stdout",
     "output_type": "stream",
     "text": [
      "Solution 1: {4: ['s'], 1: ['u'], 2: ['c', 'e']}\n"
     ]
    }
   ],
   "source": [
    "sol = Solution()\n",
    "\n",
    "print(f\"Solution 1: {sol.groupFrequency(s)}\")"
   ]
  },
  {
   "cell_type": "code",
   "execution_count": null,
   "id": "d7d686a1",
   "metadata": {},
   "outputs": [],
   "source": [
    "#2. Visualize Frequencies with Matplotlib\n",
    "#Given a string s, plot a bar chart showing the frequency of each character \n",
    "# using matplotlib. Return nothing; just visualize.\n",
    "\n",
    "Example \n",
    "#s = \"banana\"\n",
    "#Expected Output:\n",
    "#A bar chart with:\n",
    "\n",
    "#'a' at 3\n",
    "\n",
    "#'n' at 2\n",
    "\n",
    "#'b' at 1\n",
    "\n",
    "#Bonus: Sort bars in descending frequency order."
   ]
  },
  {
   "cell_type": "code",
   "execution_count": null,
   "id": "deddfe1b",
   "metadata": {},
   "outputs": [],
   "source": [
    "#1. Characters Only (No Tuples)\n",
    "#Given a string s, return a list of characters sorted by frequency (high to low), excluding the frequencies themselves.\n",
    "\n",
    "#Example:\n",
    "\n",
    "#Input: \"balloon\"\n",
    "#Output: ['l', 'o', 'b', 'a', 'n']"
   ]
  }
 ],
 "metadata": {
  "kernelspec": {
   "display_name": "myenv",
   "language": "python",
   "name": "python3"
  },
  "language_info": {
   "codemirror_mode": {
    "name": "ipython",
    "version": 3
   },
   "file_extension": ".py",
   "mimetype": "text/x-python",
   "name": "python",
   "nbconvert_exporter": "python",
   "pygments_lexer": "ipython3",
   "version": "3.11.9"
  }
 },
 "nbformat": 4,
 "nbformat_minor": 5
}
