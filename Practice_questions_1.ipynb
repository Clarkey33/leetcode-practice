{
 "cells": [
  {
   "cell_type": "markdown",
   "id": "d8e80cb9",
   "metadata": {},
   "source": [
    "# Practice"
   ]
  },
  {
   "cell_type": "code",
   "execution_count": 1,
   "id": "27aa6f65",
   "metadata": {},
   "outputs": [],
   "source": [
    "#Prompt: Given a string s, \n",
    "# return the character that appears most frequently. \n",
    "# If there are ties, return any one of them.\n",
    "\n",
    "s = \"abracadabra\""
   ]
  },
  {
   "cell_type": "code",
   "execution_count": 13,
   "id": "70537b5d",
   "metadata": {},
   "outputs": [],
   "source": [
    "class Solution:\n",
    "    def mostFreq(self, s:str) -> str:\n",
    "        from collections import Counter\n",
    "        #1. Count of frequency of all elements\n",
    "        freq_count = Counter(s)\n",
    "\n",
    "        #2. Find max frequency\n",
    "        max_freq = max(freq_count.values())\n",
    "        #print(max_freq)\n",
    "\n",
    "        mst_freq=''\n",
    "        #3 check for string with max value\n",
    "        for key, value in freq_count.items():\n",
    "            if value == max_freq:\n",
    "                mst_freq += key\n",
    "\n",
    "        return mst_freq"
   ]
  },
  {
   "cell_type": "code",
   "execution_count": 11,
   "id": "aecc5950",
   "metadata": {},
   "outputs": [
    {
     "name": "stdout",
     "output_type": "stream",
     "text": [
      "a\n"
     ]
    }
   ],
   "source": [
    "sol= Solution()\n",
    "\n",
    "print(f'{sol.mostFreq(s)}')\n",
    "\n"
   ]
  },
  {
   "cell_type": "code",
   "execution_count": 12,
   "id": "3c1e1d0f",
   "metadata": {},
   "outputs": [],
   "source": [
    "#Problem 2: Given a string 's' of digits, sort them in descending order of frequency. Return a new string.\n",
    "\n",
    "s= \"11223311\""
   ]
  },
  {
   "cell_type": "code",
   "execution_count": null,
   "id": "e7e92aa2",
   "metadata": {},
   "outputs": [],
   "source": []
  }
 ],
 "metadata": {
  "kernelspec": {
   "display_name": "myenv",
   "language": "python",
   "name": "python3"
  },
  "language_info": {
   "codemirror_mode": {
    "name": "ipython",
    "version": 3
   },
   "file_extension": ".py",
   "mimetype": "text/x-python",
   "name": "python",
   "nbconvert_exporter": "python",
   "pygments_lexer": "ipython3",
   "version": "3.11.9"
  }
 },
 "nbformat": 4,
 "nbformat_minor": 5
}
